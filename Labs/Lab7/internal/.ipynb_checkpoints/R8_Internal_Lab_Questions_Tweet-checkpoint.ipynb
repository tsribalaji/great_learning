{
 "cells": [
  {
   "cell_type": "markdown",
   "metadata": {
    "colab_type": "text",
    "id": "FU-HwvIdH0M-"
   },
   "source": [
    "## Sentiment analysis <br> \n",
    "\n",
    "The objective of the second problem is to perform Sentiment analysis from the tweets data collected from the users targeted at various mobile devices.\n",
    "Based on the tweet posted by a user (text), we will classify if the sentiment of the user targeted at a particular mobile device is positive or not."
   ]
  },
  {
   "cell_type": "markdown",
   "metadata": {
    "colab_type": "text",
    "id": "nAQDiZHRH0M_"
   },
   "source": [
    "### 1. Read the dataset (tweets.csv) and drop the NA's while reading the dataset"
   ]
  },
  {
   "cell_type": "code",
   "execution_count": 1,
   "metadata": {},
   "outputs": [],
   "source": [
    "import pandas as pd\n",
    "import numpy as np\n",
    "import scipy as sp\n",
    "from sklearn.model_selection import train_test_split\n",
    "from sklearn.feature_extraction.text import CountVectorizer, TfidfVectorizer\n",
    "from sklearn.naive_bayes import MultinomialNB\n",
    "from sklearn.linear_model import LogisticRegression\n",
    "from sklearn import metrics\n",
    "%matplotlib inline\n",
    "\n",
    "import warnings\n",
    "warnings.filterwarnings('ignore')"
   ]
  },
  {
   "cell_type": "code",
   "execution_count": 2,
   "metadata": {},
   "outputs": [],
   "source": [
    "data = pd.read_csv('tweets.csv',encoding='latin')"
   ]
  },
  {
   "cell_type": "code",
   "execution_count": 3,
   "metadata": {},
   "outputs": [
    {
     "data": {
      "text/html": [
       "<div>\n",
       "<style scoped>\n",
       "    .dataframe tbody tr th:only-of-type {\n",
       "        vertical-align: middle;\n",
       "    }\n",
       "\n",
       "    .dataframe tbody tr th {\n",
       "        vertical-align: top;\n",
       "    }\n",
       "\n",
       "    .dataframe thead th {\n",
       "        text-align: right;\n",
       "    }\n",
       "</style>\n",
       "<table border=\"1\" class=\"dataframe\">\n",
       "  <thead>\n",
       "    <tr style=\"text-align: right;\">\n",
       "      <th></th>\n",
       "      <th>tweet_text</th>\n",
       "      <th>emotion_in_tweet_is_directed_at</th>\n",
       "      <th>is_there_an_emotion_directed_at_a_brand_or_product</th>\n",
       "    </tr>\n",
       "  </thead>\n",
       "  <tbody>\n",
       "    <tr>\n",
       "      <th>0</th>\n",
       "      <td>.@wesley83 I have a 3G iPhone. After 3 hrs twe...</td>\n",
       "      <td>iPhone</td>\n",
       "      <td>Negative emotion</td>\n",
       "    </tr>\n",
       "    <tr>\n",
       "      <th>1</th>\n",
       "      <td>@jessedee Know about @fludapp ? Awesome iPad/i...</td>\n",
       "      <td>iPad or iPhone App</td>\n",
       "      <td>Positive emotion</td>\n",
       "    </tr>\n",
       "    <tr>\n",
       "      <th>2</th>\n",
       "      <td>@swonderlin Can not wait for #iPad 2 also. The...</td>\n",
       "      <td>iPad</td>\n",
       "      <td>Positive emotion</td>\n",
       "    </tr>\n",
       "    <tr>\n",
       "      <th>3</th>\n",
       "      <td>@sxsw I hope this year's festival isn't as cra...</td>\n",
       "      <td>iPad or iPhone App</td>\n",
       "      <td>Negative emotion</td>\n",
       "    </tr>\n",
       "    <tr>\n",
       "      <th>4</th>\n",
       "      <td>@sxtxstate great stuff on Fri #SXSW: Marissa M...</td>\n",
       "      <td>Google</td>\n",
       "      <td>Positive emotion</td>\n",
       "    </tr>\n",
       "  </tbody>\n",
       "</table>\n",
       "</div>"
      ],
      "text/plain": [
       "                                          tweet_text  \\\n",
       "0  .@wesley83 I have a 3G iPhone. After 3 hrs twe...   \n",
       "1  @jessedee Know about @fludapp ? Awesome iPad/i...   \n",
       "2  @swonderlin Can not wait for #iPad 2 also. The...   \n",
       "3  @sxsw I hope this year's festival isn't as cra...   \n",
       "4  @sxtxstate great stuff on Fri #SXSW: Marissa M...   \n",
       "\n",
       "  emotion_in_tweet_is_directed_at  \\\n",
       "0                          iPhone   \n",
       "1              iPad or iPhone App   \n",
       "2                            iPad   \n",
       "3              iPad or iPhone App   \n",
       "4                          Google   \n",
       "\n",
       "  is_there_an_emotion_directed_at_a_brand_or_product  \n",
       "0                                   Negative emotion  \n",
       "1                                   Positive emotion  \n",
       "2                                   Positive emotion  \n",
       "3                                   Negative emotion  \n",
       "4                                   Positive emotion  "
      ]
     },
     "execution_count": 3,
     "metadata": {},
     "output_type": "execute_result"
    }
   ],
   "source": [
    "data=data.dropna()\n",
    "data.head()"
   ]
  },
  {
   "cell_type": "markdown",
   "metadata": {
    "colab_type": "text",
    "id": "jPJvTjefH0NI"
   },
   "source": [
    "### Preprocess data\n",
    "1. convert all text to lowercase - use .lower()\n",
    "2. select only numbers, alphabets, and #+_ from text - use re.sub()\n",
    "3. strip all the text - use .strip() - this is for removing extra spaces"
   ]
  },
  {
   "cell_type": "code",
   "execution_count": 4,
   "metadata": {},
   "outputs": [],
   "source": [
    "data=data.applymap(lambda s:s.lower())"
   ]
  },
  {
   "cell_type": "code",
   "execution_count": 5,
   "metadata": {},
   "outputs": [],
   "source": [
    "import re\n",
    "data=data.applymap(lambda s:re.sub(\"[^0-9a-z #+_]\",\" \" ,s))"
   ]
  },
  {
   "cell_type": "code",
   "execution_count": 6,
   "metadata": {},
   "outputs": [],
   "source": [
    "data=data.applymap(lambda s:s.strip())"
   ]
  },
  {
   "cell_type": "code",
   "execution_count": 7,
   "metadata": {},
   "outputs": [
    {
     "data": {
      "text/plain": [
       "(3291, 3)"
      ]
     },
     "execution_count": 7,
     "metadata": {},
     "output_type": "execute_result"
    }
   ],
   "source": [
    "data.shape"
   ]
  },
  {
   "cell_type": "code",
   "execution_count": 8,
   "metadata": {},
   "outputs": [
    {
     "data": {
      "text/html": [
       "<div>\n",
       "<style scoped>\n",
       "    .dataframe tbody tr th:only-of-type {\n",
       "        vertical-align: middle;\n",
       "    }\n",
       "\n",
       "    .dataframe tbody tr th {\n",
       "        vertical-align: top;\n",
       "    }\n",
       "\n",
       "    .dataframe thead th {\n",
       "        text-align: right;\n",
       "    }\n",
       "</style>\n",
       "<table border=\"1\" class=\"dataframe\">\n",
       "  <thead>\n",
       "    <tr style=\"text-align: right;\">\n",
       "      <th></th>\n",
       "      <th>tweet_text</th>\n",
       "      <th>emotion_in_tweet_is_directed_at</th>\n",
       "      <th>is_there_an_emotion_directed_at_a_brand_or_product</th>\n",
       "    </tr>\n",
       "  </thead>\n",
       "  <tbody>\n",
       "    <tr>\n",
       "      <th>0</th>\n",
       "      <td>wesley83 i have a 3g iphone  after 3 hrs tweet...</td>\n",
       "      <td>iphone</td>\n",
       "      <td>negative emotion</td>\n",
       "    </tr>\n",
       "    <tr>\n",
       "      <th>1</th>\n",
       "      <td>jessedee know about  fludapp   awesome ipad ip...</td>\n",
       "      <td>ipad or iphone app</td>\n",
       "      <td>positive emotion</td>\n",
       "    </tr>\n",
       "    <tr>\n",
       "      <th>2</th>\n",
       "      <td>swonderlin can not wait for #ipad 2 also  they...</td>\n",
       "      <td>ipad</td>\n",
       "      <td>positive emotion</td>\n",
       "    </tr>\n",
       "    <tr>\n",
       "      <th>3</th>\n",
       "      <td>sxsw i hope this year s festival isn t as cras...</td>\n",
       "      <td>ipad or iphone app</td>\n",
       "      <td>negative emotion</td>\n",
       "    </tr>\n",
       "    <tr>\n",
       "      <th>4</th>\n",
       "      <td>sxtxstate great stuff on fri #sxsw  marissa ma...</td>\n",
       "      <td>google</td>\n",
       "      <td>positive emotion</td>\n",
       "    </tr>\n",
       "  </tbody>\n",
       "</table>\n",
       "</div>"
      ],
      "text/plain": [
       "                                          tweet_text  \\\n",
       "0  wesley83 i have a 3g iphone  after 3 hrs tweet...   \n",
       "1  jessedee know about  fludapp   awesome ipad ip...   \n",
       "2  swonderlin can not wait for #ipad 2 also  they...   \n",
       "3  sxsw i hope this year s festival isn t as cras...   \n",
       "4  sxtxstate great stuff on fri #sxsw  marissa ma...   \n",
       "\n",
       "  emotion_in_tweet_is_directed_at  \\\n",
       "0                          iphone   \n",
       "1              ipad or iphone app   \n",
       "2                            ipad   \n",
       "3              ipad or iphone app   \n",
       "4                          google   \n",
       "\n",
       "  is_there_an_emotion_directed_at_a_brand_or_product  \n",
       "0                                   negative emotion  \n",
       "1                                   positive emotion  \n",
       "2                                   positive emotion  \n",
       "3                                   negative emotion  \n",
       "4                                   positive emotion  "
      ]
     },
     "execution_count": 8,
     "metadata": {},
     "output_type": "execute_result"
    }
   ],
   "source": [
    "data.head()"
   ]
  },
  {
   "cell_type": "markdown",
   "metadata": {
    "colab_type": "text",
    "id": "OGWB3P2WH0NY"
   },
   "source": [
    "### 3. Consider only rows having Positive emotion and Negative emotion and remove other rows from the dataframe."
   ]
  },
  {
   "cell_type": "code",
   "execution_count": 9,
   "metadata": {},
   "outputs": [],
   "source": [
    "data_sub = data[(data.is_there_an_emotion_directed_at_a_brand_or_product=='positive emotion') | (data.is_there_an_emotion_directed_at_a_brand_or_product=='negative emotion')]"
   ]
  },
  {
   "cell_type": "code",
   "execution_count": 10,
   "metadata": {},
   "outputs": [
    {
     "data": {
      "text/plain": [
       "(3191, 3)"
      ]
     },
     "execution_count": 10,
     "metadata": {},
     "output_type": "execute_result"
    }
   ],
   "source": [
    "data_sub.shape"
   ]
  },
  {
   "cell_type": "markdown",
   "metadata": {
    "colab_type": "text",
    "id": "SotCRvkDH0Nf"
   },
   "source": [
    "### 4. Represent text as numerical data using `CountVectorizer` and get the document term frequency matrix\n",
    "\n",
    "#### Use `vect` as the variable name for initialising CountVectorizer."
   ]
  },
  {
   "cell_type": "code",
   "execution_count": 11,
   "metadata": {},
   "outputs": [],
   "source": [
    "X=data_sub['tweet_text']\n",
    "Y=data_sub['is_there_an_emotion_directed_at_a_brand_or_product']\n"
   ]
  },
  {
   "cell_type": "code",
   "execution_count": 12,
   "metadata": {},
   "outputs": [
    {
     "data": {
      "text/plain": [
       "(3191,)"
      ]
     },
     "execution_count": 12,
     "metadata": {},
     "output_type": "execute_result"
    }
   ],
   "source": [
    "X.shape"
   ]
  },
  {
   "cell_type": "code",
   "execution_count": 13,
   "metadata": {},
   "outputs": [
    {
     "data": {
      "text/plain": [
       "0    wesley83 i have a 3g iphone  after 3 hrs tweet...\n",
       "1    jessedee know about  fludapp   awesome ipad ip...\n",
       "2    swonderlin can not wait for #ipad 2 also  they...\n",
       "3    sxsw i hope this year s festival isn t as cras...\n",
       "4    sxtxstate great stuff on fri #sxsw  marissa ma...\n",
       "Name: tweet_text, dtype: object"
      ]
     },
     "execution_count": 13,
     "metadata": {},
     "output_type": "execute_result"
    }
   ],
   "source": [
    "X.head()"
   ]
  },
  {
   "cell_type": "code",
   "execution_count": 14,
   "metadata": {},
   "outputs": [
    {
     "data": {
      "text/plain": [
       "(3191,)"
      ]
     },
     "execution_count": 14,
     "metadata": {},
     "output_type": "execute_result"
    }
   ],
   "source": [
    "Y.shape"
   ]
  },
  {
   "cell_type": "code",
   "execution_count": 15,
   "metadata": {},
   "outputs": [
    {
     "data": {
      "text/html": [
       "<div>\n",
       "<style scoped>\n",
       "    .dataframe tbody tr th:only-of-type {\n",
       "        vertical-align: middle;\n",
       "    }\n",
       "\n",
       "    .dataframe tbody tr th {\n",
       "        vertical-align: top;\n",
       "    }\n",
       "\n",
       "    .dataframe thead th {\n",
       "        text-align: right;\n",
       "    }\n",
       "</style>\n",
       "<table border=\"1\" class=\"dataframe\">\n",
       "  <thead>\n",
       "    <tr style=\"text-align: right;\">\n",
       "      <th></th>\n",
       "      <th>tweet_text</th>\n",
       "      <th>emotion_in_tweet_is_directed_at</th>\n",
       "      <th>is_there_an_emotion_directed_at_a_brand_or_product</th>\n",
       "    </tr>\n",
       "  </thead>\n",
       "  <tbody>\n",
       "    <tr>\n",
       "      <th>0</th>\n",
       "      <td>wesley83 i have a 3g iphone  after 3 hrs tweet...</td>\n",
       "      <td>iphone</td>\n",
       "      <td>negative emotion</td>\n",
       "    </tr>\n",
       "    <tr>\n",
       "      <th>1</th>\n",
       "      <td>jessedee know about  fludapp   awesome ipad ip...</td>\n",
       "      <td>ipad or iphone app</td>\n",
       "      <td>positive emotion</td>\n",
       "    </tr>\n",
       "    <tr>\n",
       "      <th>2</th>\n",
       "      <td>swonderlin can not wait for #ipad 2 also  they...</td>\n",
       "      <td>ipad</td>\n",
       "      <td>positive emotion</td>\n",
       "    </tr>\n",
       "    <tr>\n",
       "      <th>3</th>\n",
       "      <td>sxsw i hope this year s festival isn t as cras...</td>\n",
       "      <td>ipad or iphone app</td>\n",
       "      <td>negative emotion</td>\n",
       "    </tr>\n",
       "    <tr>\n",
       "      <th>4</th>\n",
       "      <td>sxtxstate great stuff on fri #sxsw  marissa ma...</td>\n",
       "      <td>google</td>\n",
       "      <td>positive emotion</td>\n",
       "    </tr>\n",
       "  </tbody>\n",
       "</table>\n",
       "</div>"
      ],
      "text/plain": [
       "                                          tweet_text  \\\n",
       "0  wesley83 i have a 3g iphone  after 3 hrs tweet...   \n",
       "1  jessedee know about  fludapp   awesome ipad ip...   \n",
       "2  swonderlin can not wait for #ipad 2 also  they...   \n",
       "3  sxsw i hope this year s festival isn t as cras...   \n",
       "4  sxtxstate great stuff on fri #sxsw  marissa ma...   \n",
       "\n",
       "  emotion_in_tweet_is_directed_at  \\\n",
       "0                          iphone   \n",
       "1              ipad or iphone app   \n",
       "2                            ipad   \n",
       "3              ipad or iphone app   \n",
       "4                          google   \n",
       "\n",
       "  is_there_an_emotion_directed_at_a_brand_or_product  \n",
       "0                                   negative emotion  \n",
       "1                                   positive emotion  \n",
       "2                                   positive emotion  \n",
       "3                                   negative emotion  \n",
       "4                                   positive emotion  "
      ]
     },
     "execution_count": 15,
     "metadata": {},
     "output_type": "execute_result"
    }
   ],
   "source": [
    "data_sub.head()"
   ]
  },
  {
   "cell_type": "code",
   "execution_count": 16,
   "metadata": {},
   "outputs": [],
   "source": [
    "# use CountVectorizer to create document-term matrices from X_train and X_test\n",
    "from sklearn.feature_extraction.text import CountVectorizer, TfidfVectorizer\n",
    "vect = CountVectorizer()\n",
    "X_dtm = vect.fit_transform(X)"
   ]
  },
  {
   "cell_type": "code",
   "execution_count": 17,
   "metadata": {},
   "outputs": [
    {
     "data": {
      "text/plain": [
       "scipy.sparse.csr.csr_matrix"
      ]
     },
     "execution_count": 17,
     "metadata": {},
     "output_type": "execute_result"
    }
   ],
   "source": [
    "type(X_dtm)"
   ]
  },
  {
   "cell_type": "code",
   "execution_count": 18,
   "metadata": {},
   "outputs": [
    {
     "data": {
      "text/plain": [
       "(3191, 5610)"
      ]
     },
     "execution_count": 18,
     "metadata": {},
     "output_type": "execute_result"
    }
   ],
   "source": [
    "X_dtm.shape"
   ]
  },
  {
   "cell_type": "markdown",
   "metadata": {
    "colab_type": "text",
    "id": "5pxd5fSHH0Nt"
   },
   "source": [
    "### 5. Find number of different words in vocabulary"
   ]
  },
  {
   "cell_type": "code",
   "execution_count": 19,
   "metadata": {},
   "outputs": [
    {
     "name": "stdout",
     "output_type": "stream",
     "text": [
      "['000', '02', '03', '08', '10', '100', '100s', '100tc', '101', '106', '10am', '10k', '10mins', '10pm', '10x', '11', '11ntc', '11th', '12', '12b', '12th', '13', '130', '14', '1406', '1413', '1415', '15', '150', '1500', '150m', '157', '15am', '15k', '16162', '16gb', '16mins', '17', '188', '1986', '1990style', '1m', '1of', '1pm', '1st', '20', '200', '2010', '2011', '2012', '20s', '21', '22', '23', '24', '25', '250k', '25th', '2am', '2day', '2honor', '2moro', '2nd', '2nite', '2s', '2yrs', '30', '300', '3000', '30a', '30am', '30p', '30pm', '32', '32gb', '35', '36', '37', '3d', '3g', '3gs', '3k', '3rd', '3x', '40', '400', '40min', '41', '45', '45am', '47', '48', '4android', '4chan', '4g', '4nqv92l', '4sq', '4sq3', '4square', '50', '54', '55', '58', '59', '59p', '59pm', '5pm', '5th', '60', '64g', '64gb', '64gig', '64mb', '65', '6hours', '6th', '70', '75', '7th', '80', '800', '80s', '81', '82', '89', '8am', '8p', '8pm', '8th', '90', '900', '911tweets', '95', '96', '967', '97', '98', '99', '9th', '__', '______', '_______', '_r', 'a3xvwc6', 'aapl', 'abacus', 'abandoned', 'aber', 'ability', 'able', 'about', 'abroad', 'absolute', 'absolutely', 'abt', 'abuzz', 'academy', 'acc', 'acceptable', 'access', 'accessibility', 'accessible', 'accessories', 'accessory', 'accesssxsw', 'accommodate', 'according', 'accordion', 'account', 'acerbic', 'achieve', 'acknowledge', 'aclu', 'aclus', 'acquired', 'across', 'acrosse', 'action', 'actions', 'activate', 'activations', 'activity', 'actors', 'actsofsharing', 'actual', 'actually', 'ad', 'adam', 'adams', 'adapt', 'adaptive', 'add', 'added', 'addicted', 'addictedtotheinterwebs', 'addictive', 'addicts', 'adding', 'addition', 'additional', 'address', 'adfonic', 'admired', 'admission', 'admit', 'admits', 'admitting', 'ado', 'adopter', 'adopters', 'adoption', 'adpeopleproblems', 'ads', 'advanced', 'advent', 'adventure', 'advertising', 'advice', 'advisory', 'aesthetic', 'affair', 'affirmative', 'afford', 'afraid', 'africans', 'after', 'afternoon', 'again', 'against', 'agchat', 'agencies', 'agency', 'agenda', 'agents', 'agileagency', 'agnerd', 'ago', 'agree', 'agreed', 'ah', 'ahead', 'ahem', 'ahh', 'ahhh', 'ahing', 'aicn', 'aiding', 'aim', 'ain', 'air', 'airline', 'airlines', 'airplane', 'airport', 'airports', 'airs', 'ajs2011', 'aka', 'akqas', 'al', 'alamo', 'alan', 'alarm', 'alarms', 'alas', 'alcoholics', 'alert', 'alerts', 'alex', 'alive', 'all', 'allow', 'allowing', 'almost', 'alone', 'along', 'alot', 'alphagraphics', 'already', 'also', 'alt', 'alternate', 'alternative', 'although', 'always', 'alwayshavingtoplugin', 'am', 'amateurhour', 'amazing', 'amazingly', 'amazon', 'ambassador', 'america', 'amex', 'amigos', 'among', 'amount', 'amp', 'amused', 'amusing', 'an', 'analysis', 'analytics', 'and', 'andoid', 'andriod', 'andro', 'android', 'androidsxsw', 'angry', 'angrybirds', 'announce', 'announced', 'announces', 'announcing', 'annoyed', 'annoying', 'anoth', 'another', 'answer', 'answered', 'anti', 'anticipate', 'antigov', 'antique', 'antonio', 'antwoord', 'anxiety', 'anxious', 'any', 'anybody', 'anybodywanttobuymeanipad2', 'anymore', 'anyone', 'anyones', 'anything', 'anyway', 'anyways', 'anywhere', 'aos', 'ap', 'apac', 'apartment', 'api', 'apis', 'app', 'apparent', 'apparently', 'appcircus', 'appeal', 'appealing', 'appear', 'appears', 'applauds', 'applause', 'apple', 'apple_store', 'appleaddiction', 'appleatxdt', 'applefanatic', 'apples', 'appletakingoverworld', 'application', 'applications', 'appolicious', 'appreciate', 'appreciation', 'approach', 'approaches', 'approval', 'approved', 'approves', 'apps', 'aquent', 'arcade', 'archive', 'arctic', 'arduino', 'are', 'area', 'areas', 'aren', 'arg', 'argues', 'argument', 'aristotle', 'arm', 'armadillo', 'armed', 'aron', 'around', 'arrived', 'arrives', 'arriving', 'art', 'article', 'articles', 'articulate', 'artificial', 'artist', 'artistic', 'artists', 'artwork', 'artworks', 'arw', 'as', 'asddieu', 'ask', 'asked', 'asking', 'asleep', 'ass', 'assisted', 'assistivetech', 'assume', 'at', 'atari', 'atl', 'atms', 'atrix', 'att', 'attached', 'attempt', 'attend', 'attended', 'attendees', 'attending', 'attention', 'attitudes', 'attracted', 'attracting', 'attractive', 'atx', 'atzip', 'audience', 'audio', 'augcomm', 'augmented', 'augmentedreality', 'auntie', 'aus', 'austin', 'austincrowd', 'austinites', 'austintx', 'austinwins', 'australian', 'ausxsw', 'auth', 'authenticator', 'authorization', 'autistic', 'auto', 'autocorrect', 'autocorrects', 'autonomous', 'avail', 'available', 'ave', 'avenue', 'average', 'averages', 'avoid', 'avoiding', 'aw', 'awake', 'award', 'awards', 'aware', 'awareness', 'away', 'awe', 'awesome', 'awesomely', 'awesomeness', 'awesometiming', 'awhile', 'awkward', 'awwww', 'axzwxb', 'b4', 'baaah', 'baby', 'back', 'background', 'backlight', 'backpack', 'backup', 'backupify', 'bad', 'badge', 'badgeless', 'badges', 'bag', 'bags', 'bahahahaha', 'bajillions', 'balance', 'balckberries', 'balcony', 'ball', 'ballroom', 'ballrooms', 'banality', 'band', 'bands', 'bandwaggoners', 'bandwidth', 'bang', 'banged', 'bank', 'banking', 'bankinnovate', 'bankinnovation', 'banks', 'bar', 'barcode', 'barely', 'barring', 'barroom', 'barry', 'barrydiller', 'bars', 'bart', 'barton', 'based', 'bashing', 'basic', 'basically', 'basics', 'basis', 'basket', 'bastards', 'bat', 'bathroom', 'batphone', 'batt', 'batteries', 'battery', 'batterykiller', 'battle', 'battledecks', 'battlela', 'bavcid', 'bawling', 'bb', 'bbq', 'bc', 'bday', 'be', 'beach', 'beans', 'bear', 'beard', 'beat', 'beats', 'beautiful', 'beautifully', 'beauty', 'because', 'become', 'becoming', 'bed', 'beechwood', 'been', 'beer', 'before', 'beforetwitter', 'begin', 'beginning', 'begins', 'behance', 'behave', 'behaving', 'behavior', 'behind', 'being', 'believe', 'belinsky', 'belong', 'beluga', 'ben', 'benefit', 'benieuwd', 'bereft', 'bergstrom', 'berklee', 'bernd', 'berry', 'best', 'bestappever', 'bestie', 'bet', 'beta', 'betainvites', 'better', 'bettercloud', 'bettersearch', 'betterthingstodo', 'between', 'beware', 'beyond', 'bff', 'bicycle', 'big', 'bigger', 'biggest', 'bike', 'billion', 'bin', 'bing', 'biomimicry', 'bird', 'birds', 'birth', 'birthday', 'bit', 'bite', 'biz', 'bizzy', 'bjdproductions', 'black', 'blackberry', 'blackbook', 'blacked', 'blame', 'blast', 'bleed', 'blew', 'blind', 'blinksale', 'block', 'blocked', 'blocking', 'blocks', 'blog', 'bloggable', 'blogger', 'blogging', 'blogs', 'bloody', 'bloomberg', 'blows', 'blue', 'blueray', 'bluetooth', 'bluezoom', 'blurs', 'bmm', 'bnet', 'board', 'boarded', 'body', 'bomb', 'boo', 'book', 'bookbook', 'books', 'boom', 'boomers', 'boost', 'booth', 'boots', 'booyah', 'booze', 'borderstylo', 'bored', 'born', 'borrow', 'borrowing', 'boss', 'botch', 'both', 'bother', 'bots', 'bottom', 'bought', 'bounced', 'bound', 'boundaries', 'bout', 'bowl', 'box', 'boxee', 'boxes', 'boy', 'boyfriend', 'boys', 'bpm', 'bracket', 'brah', 'brain', 'brains', 'brainwashed', 'brand', 'branded', 'brands', 'bravo', 'brawls', 'brazil', 'bread', 'break', 'breakdown', 'breakfast', 'breaking', 'breakout', 'breakthrough', 'breathtaking', 'breeds', 'brian_lam', 'brick', 'bricklin', 'bridging', 'bright', 'brightens', 'brightness', 'brilliance', 'brilliant', 'bring', 'bringing', 'brings', 'brisk', 'british', 'brits', 'brk', 'bro', 'broadcast', 'broadcastr', 'broadfeed', 'broken', 'brother', 'brought', 'browse', 'browser', 'browserwars', 'browsing', 'bruises', 'brushstroke', 'bryce', 'bt', 'btw', 'bubble', 'bucket', 'buffalo', 'bug', 'bugger', 'buggy', 'bugs', 'build', 'building', 'buildings', 'built', 'bulletin', 'bummed', 'bummer', 'bumped', 'bunch', 'burn', 'bursts', 'bus', 'busdev', 'business', 'businesses', 'busy', 'but', 'butt', 'button', 'buttons', 'butts', 'buy', 'buyers', 'buying', 'buys', 'buzz', 'buzzing', 'by', 'bynd', 'ca', 'cab', 'cabbies', 'cable', 'cables', 'cabs', 'cactus', 'cake', 'calendar', 'calhoun', 'california', 'call', 'callay', 'callback', 'called', 'callooh', 'calls', 'calyp', 'cam', 'came', 'camera', 'cameras', 'campaigns', 'campbell', 'campus', 'can', 'canada', 'canadian', 'cancel', 'cannot', 'cant', 'canvas', 'capabilities', 'capitol', 'capped', 'captain', 'capture', 'captured', 'car', 'caramel', 'carbon', 'card', 'cards', 'care', 'career', 'caring', 'carroll', 'carry', 'carrying', 'cart', 'cartel', 'cartoon', 'cartoonishly', 'case', 'cases', 'cash', 'cashmere', 'cashmore', 'cast', 'castle', 'casually', 'cat', 'catch', 'catching', 'catphysics', 'cattle', 'cause', 'caused', 'causing', 'cautiously', 'cbatsxsw', 'cc', 'cedar', 'celebrate', 'celebrating', 'celebs', 'cell', 'cellular', 'center', 'centers', 'central', 'centre', 'cents', 'ceo', 'ceokidschat', 'cera', 'cerebellum', 'cerebral', 'certain', 'certificate', 'ces', 'ch', 'chain', 'chair', 'chalked', 'challenge', 'challenged', 'challenges', 'champ', 'chance', 'chances', 'change', 'changed', 'changer', 'changes', 'changing', 'channel', 'channels', 'chaos', 'characters', 'charge', 'charged', 'charger', 'chargers', 'charges', 'chargin2diffphonesatonce', 'charging', 'charity', 'charles', 'charm', 'charts', 'chat', 'chatter', 'chatting', 'cheapen', 'cheaper', 'check', 'checked', 'checking', 'checkins', 'checkout', 'cheeky', 'cheer', 'cheers', 'cheese', 'chen', 'chevy', 'chevysmc', 'chevysxsw', 'chevytweethouse', 'chic', 'chief', 'child', 'childhood', 'chill', 'chilltab', 'china', 'chinese', 'chip', 'chk', 'chng', 'choice', 'chokes', 'choose', 'choplifter', 'choreography', 'chris', 'christian', 'christmas', 'chrome', 'chromeos', 'chronicling', 'chumps', 'chunky', 'cigarettes', 'cinema', 'circle', 'circles', 'circusmash', 'cited', 'cites', 'city', 'ck', 'cks', 'claims', 'clarity', 'clark', 'class', 'classics', 'classiest', 'classy', 'cle', 'clean', 'clear', 'clearly', 'cleveland', 'clever', 'click', 'clicked', 'client', 'clients', 'climbing', 'clipcon', 'clocks', 'close', 'closed', 'closely', 'closer', 'clothes', 'cloud', 'cloudapp', 'cloudsight', 'clumsily', 'cluster', 'cluttering', 'cm48', 'cmswire', 'cmty', 'cnet', 'cnn', 'cnngrill', 'cnnmoney', 'cnnmoneysxsw', 'cnt', 'cntr', 'co', 'cobra', 'cocaine', 'cocky', 'cocoon', 'code', 'coded', 'coders', 'coding', 'coffee', 'cohen', 'coincide', 'coincides', 'cold', 'colin', 'collab', 'collection', 'collective', 'collectively', 'color', 'colors', 'colour', 'com', 'combine', 'combines', 'comcom', 'come', 'comedy', 'comers', 'comes', 'comfort', 'comfortable', 'coming', 'commandeered', 'comment', 'comments', 'common', 'comms', 'communal', 'communicate', 'communication', 'communications', 'community', 'comp', 'compan', 'companies', 'company', 'compared', 'compatible', 'compels', 'compete', 'competition', 'competitor', 'competitors', 'compiling', 'complement', 'complete', 'completely', 'complex', 'complicated', 'composed', 'computer', 'computers', 'computing', 'concentrate', 'concept', 'concert', 'concertgoers', 'condense', 'conf', 'conference', 'conferences', 'confession', 'configuration', 'confines', 'confirmed', 'conflagration', 'confusion', 'congrats', 'congratulation', 'congratulations', 'congress', 'connect', 'connected', 'connectedbrands', 'connectedcar', 'connectedtv', 'connectivity', 'connects', 'conquered', 'consciously', 'considering', 'consistent', 'consistently', 'constant', 'consultation', 'consulting', 'consume', 'consumer', 'consumerist', 'consumerization', 'cont', 'contact', 'content', 'contentrules', 'contest', 'context', 'contextual', 'continued', 'continues', 'continuous', 'continuum', 'control', 'controller', 'conv', 'convenient', 'conveniently', 'convention', 'conventions', 'converge', 'conversation', 'conversations', 'conversion', 'convience', 'convince', 'convinced', 'convore', 'cool', 'cooler', 'coolest', 'coolhaus', 'coordinate', 'cope', 'copia', 'copper', 'cops', 'copy', 'cor', 'cord', 'cordless', 'cords', 'core', 'corner', 'corporate', 'corporation', 'corralling', 'correct', 'correcting', 'corrupted', 'cost', 'costume', 'couch', 'couchfan', 'cough', 'could', 'couldn', 'count', 'counting', 'country', 'couple', 'coupons', 'course', 'courtesy', 'courtside', 'courtyard', 'cover', 'coverage', 'covered', 'covering', 'covet', 'cow', 'cowboy', 'coworkers', 'cpa', 'cr', 'crack', 'crackberry', 'crafty', 'crap', 'crapkit', 'crapped', 'crappy', 'craps', 'crash', 'crashed', 'crasher', 'crashes', 'crashing', 'crashy', 'crave', 'craving', 'craziness', 'crazy', 'crazyco', 'crazyfest', 'cream', 'create', 'created', 'creates', 'creating', 'creative', 'creatively', 'creativity', 'creator', 'creatures', 'credit', 'creek', 'creeper', 'crew', 'cried', 'crippling', 'crisis', 'critiques', 'cross', 'crossed', 'crossing', 'crowd', 'crowdbeacon', 'crowded', 'crowds', 'crowdsourcing', 'crowley', 'crunch', 'crushing', 'crushit', 'cruze', 'cry', 'csr', 'cstejas', 'csuitecsourcing', 'ctia', 'cult', 'culture', 'cunning', 'cup', 'cupcake', 'cupertino', 'cups', 'curated', 'curatedebate', 'curiosity', 'curious', 'current', 'curse', 'cursing', 'cursor', 'custom', 'custome', 'customer', 'customers', 'cut', 'cute', 'cuts', 'cutsies', 'cuz', 'cwc2011', 'cwebb', 'cynical', 'dah', 'dahl', 'daily', 'dairy', 'dali', 'damage', 'damm', 'dammit', 'damn', 'damon', 'dan', 'dance', 'dancing', 'dandy', 'danfung', 'dang', 'dangerous', 'daniel', 'danny', 'dark', 'darn', 'darryl', 'das', 'dat', 'data', 'database', 'date', 'dating', 'david', 'davis', 'dawdled', 'dawg', 'dawn', 'day', 'daylight', 'days', 'de', 'dead', 'deadline', 'deadly', 'deal', 'dealing', 'deals', 'dear', 'death', 'debating', 'debut', 'debuting', 'debuts', 'decade', 'decent', 'decide', 'decided', 'deciding', 'decision', 'deck', 'dedication', 'deeper', 'def', 'default', 'deficit', 'define', 'defining', 'definitely', 'deforestation', 'degrees', 'dehumanizing', 'delay', 'delayed', 'delegates', 'delete', 'deleting', 'delicious', 'deliciously', 'deliciousness', 'delight', 'delightful', 'deliver', 'delivered', 'delivery', 'dell', 'delving', 'demand', 'demo', 'democracy', 'demoed', 'demoing', 'demonstrate', 'demonstrates', 'demonstration', 'denies', 'dennis', 'denotes', 'dense', 'density', 'depeche', 'depressed', 'described', 'design', 'designed', 'designers', 'designflaws', 'designing', 'designingforkids', 'desk', 'desktop', 'desktops', 'desperate', 'desperately', 'despite', 'destroyed', 'detail', 'detailed', 'details', 'detect', 'detection', 'dev', 'develop', 'developed', 'developer', 'developers', 'developing', 'development', 'deviantart', 'device', 'devices', 'devs', 'dexteria', 'dfcbto', 'dfp', 'dfw', 'dgtltribe', 'diabetes', 'dictaphone', 'dictatorship', 'did', 'didn', 'die', 'died', 'diego', 'dieing', 'dies', 'diet', 'diferencia', 'diff', 'difference', 'different', 'dig', 'digg', 'digging', 'digibiz', 'digital', 'digitally', 'dilemma', 'diller', 'dimensional', 'dine', 'dinner', 'direct', 'direction', 'directions', 'director', 'directors', 'dirty', 'dis', 'disabilities', 'disagree', 'disappointed', 'disappointingly', 'disaster', 'disc', 'discotalk', 'discover', 'discovered', 'discovery', 'discovr', 'discuss', 'discusses', 'discussion', 'disgraceful', 'disgusted', 'dislike', 'disliking', 'disney', 'disneyland', 'display', 'displaying', 'disrupt', 'disruptive', 'disrupts', 'dissapointment', 'distance', 'distribution', 'disturbing', 'ditch', 'divasanddorks', 'divide', 'dividends', 'dj', 'djroe', 'dk', 'dl', 'dm', 'do', 'doc', 'dock', 'docomo', 'docs', 'documented', 'documents', 'dodgeball', 'dodo', 'does', 'doesdroid', 'doesn', 'dog', 'dogs', 'doing', 'dokobots', 'dollar', 'dollars', 'dom', 'domain', 'dominance', 'domo', 'don', 'donate', 'donates', 'donating', 'done', 'dongle', 'donline', 'dont', 'dontbehatin', 'doo', 'doodle', 'doodles', 'doofusness', 'door', 'dorkinout', 'dotco', 'double', 'doubly', 'doubt', 'douche', 'douchebag', 'douchebaggery', 'dow', 'down', 'download', 'downloaded', 'downloading', 'downloads', 'downside', 'downstairs', 'downtown', 'dr_black', 'drafthouse', 'drag', 'draining', 'draw', 'drawing', 'draws', 'dream', 'dreams', 'drink', 'drinks', 'drive', 'driven', 'drivers', 'drives', 'driving', 'droid', 'drooling', 'drop', 'dropped', 'dropping', 'drowning', 'drug', 'drumroll', 'drupalcon', 'dst', 'dt', 'dtas', 'ducks', 'dude', 'due', 'duh', 'duking', 'dumped', 'dunno', 'durable', 'during', 'dwindled', 'dwindling', 'dyac', 'dynamic', 'dynamics', 'ea1zgd', 'each', 'eagerly', 'earbud', 'earbuds', 'earlier', 'early', 'earned', 'earphones', 'earplugs', 'ears', 'earth', 'earthhour', 'earthquake', 'earths', 'easeljs', 'easier', 'easy', 'eat', 'eatdrinktweet', 'eating', 'eats', 'ebay', 'ebooks', 'echofon', 'ecodriving', 'economy', 'ecosystem', 'edible', 'edition', 'edtech', 'education', 'educational', 'eff', 'effective', 'efficient', 'effing', 'effort', 'efforts', 'eg', 'egomaniacs', 'eh', 'either', 'elbow', 'election', 'electronics', 'elegant', 'elements', 'elevate', 'elevation', 'elonsxsw', 'else', 'email', 'emails', 'embarrassed', 'emc', 'eminent', 'emotional', 'employee', 'employees', 'empowered', 'empty', 'emulates', 'enable', 'enables', 'enabling', 'enchanted', 'enchanting', 'enchantment', 'end', 'endeavor', 'ended', 'endorsed', 'endorsement', 'ends', 'energy', 'engage', 'engage365', 'engagement', 'engaging', 'engine', 'engineer', 'engines', 'english', 'enhancements', 'enjoy', 'enjoyed', 'enjoying', 'enjoys', 'enlightening', 'enough', 'ensue', 'enter', 'entered', 'enterprise', 'entertaining', 'entire', 'entirely', 'entrepreneur', 'entry', 'enuf', 'enviro', 'environment', 'environmental', 'envisioning', 'envy', 'epic', 'epicenter', 'epicurious', 'equity', 'er', 'era', 'eric', 'error', 'ers', 'escape', 'esp', 'especially', 'essential', 'essentially', 'essentials', 'estate', 'et', 'etc', 'etch', 'etsbzk', 'etsy', 'europe', 'eurosxsw', 'evade', 'evaporation', 'even', 'evening', 'event', 'eventbrite', 'eventprofs', 'events', 'eventseekr', 'eventually', 'ever', 'everbody', 'evernote', 'every', 'everybody', 'everyday', 'everyone', 'everything', 'everytime', 'everywhere', 'evidence', 'evil', 'evo', 'evolving', 'evolvingworkplace', 'ex', 'exactly', 'example', 'examples', 'excellent', 'except', 'exceptionally', 'exchange', 'excited', 'excitement', 'exciting', 'excludes', 'exclusive', 'excuse', 'executed', 'executing', 'exhibit', 'exhibitors', 'exist', 'existence', 'existent', 'exists', 'expansion', 'expect', 'expectation', 'expected', 'expecting', 'expensive', 'experience', 'experiential', 'experiment', 'experimenting', 'expert', 'experts', 'expierence', 'explaining', 'explanation', 'exploiting', 'explorer', 'explorers', 'exploring', 'exported', 'exposing', 'express', 'exquisite', 'extended', 'extenders', 'extra', 'extraordinary', 'extras', 'eyeballed', 'eyes', 'f6bcet', 'fab', 'fab5', 'fabulous', 'face', 'facebook', 'facepalmed', 'facetime', 'facing', 'facist', 'fact', 'factor', 'facts', 'fades', 'fail', 'failed', 'failing', 'failure', 'fair', 'fake', 'false', 'fam', 'familiarize', 'famous', 'fan', 'fanboy', 'fanboyism', 'fanboys', 'fancrazed', 'fandango', 'fans', 'fantastic', 'fantastico', 'far', 'farm', 'farmers', 'farmville', 'farooqui', 'fascinating', 'fascist', 'fashion', 'fast', 'fastcompanygrill', 'fastcompanygrille', 'faster', 'fastest', 'fastsociety', 'fat', 'fathom', 'faulty', 'fav', 'fave', 'favorite', 'favorited', 'favorites', 'favour', 'fawning', 'fb', 'fear', 'feature', 'featured', 'features', 'featuring', 'feckin', 'fed', 'feed', 'feeding', 'feel', 'feelin', 'feeling', 'feelings', 'feels', 'fees', 'fell', 'fellow', 'fellowship', 'felt', 'ferris', 'ferriss', 'fessing', 'fest', 'festgoers', 'festival', 'festivalexplorer', 'festivalgenius', 'fetishism', 'few', 'ff', 'fh', 'fi', 'field', 'fiendishly', 'fight', 'fighting', 'figure', 'figuring', 'fill', 'filling', 'film', 'filmaster', 'filming', 'filter', 'filters', 'fin', 'final', 'finalist', 'finalists', 'finally', 'finals', 'find', 'finder', 'finding', 'fine', 'finger', 'fingerprint', 'fingers', 'finished', 'fire', 'first', 'firstworldproblems', 'fishing', 'fists', 'fit', 'fits', 'five', 'fives', 'fiving', 'fix', 'fixing', 'flaming', 'flannel', 'flash', 'flashspecial', 'flask', 'flavor', 'flaw', 'flawless', 'fleets', 'flew', 'flight', 'flights', 'flip', 'flipboard', 'floating', 'flocking', 'flood', 'floor', 'flop', 'florian', 'flow', 'fludapp', 'fluid', 'flummoxed', 'fly', 'flying', 'flypost', 'fmsignal', 'focus', 'focuses', 'focusing', 'fogo', 'foing', 'folks', 'follow', 'followed', 'followers', 'following', 'followings', 'fond', 'fondling', 'fonts', 'food', 'foodies', 'foodspotting', 'fools', 'foosspotting', 'foot', 'footage', 'footnotes', 'for', 'forbes', 'forbidden', 'force', 'forecast', 'forests', 'forever', 'forget', 'forgo', 'forgot', 'forgotten', 'form', 'format', 'formation', 'former', 'formerly', 'formula', 'forward', 'foster', 'found', 'four', 'foursquare', 'fr', 'frabjous', 'fragmentation', 'franchised', 'francisco', 'franco', 'frank', 'franken', 'freak', 'freaking', 'free', 'freespeech', 'freeze', 'frenzy', 'fresh', 'fri', 'frickin', 'fricking', 'frid', 'friday', 'friend', 'friendly', 'friends', 'frm', 'from', 'front', 'frontend', 'frood', 'frostwire', 'frothy', 'frozen', 'fruit', 'frustrated', 'frustrating', 'frustration', 'ft', 'ftp', 'ftw', 'fuck', 'fucking', 'fuckit', 'fuckyeah', 'fuel', 'full', 'fulltime', 'fully', 'fun', 'function', 'functions', 'fundraising', 'funny', 'fusion', 'future', 'futurecast', 'futuremf', 'futureoftouch', 'fwd', 'fxsw', 'fyi', 'g03mzb', 'g2', 'g4gzypv', 'gabacustweets', 'gadget', 'gadgetenvy', 'gadgets', 'gadgetzilla', 'gaga', 'gah', 'galaxy', 'gallery', 'game', 'gamechanger', 'gamelayer', 'games', 'gamesfortv', 'gamestorming', 'gaming', 'gap', 'garageband', 'garyvee', 'gas', 'gasps', 'gatekeeper', 'gathering', 'gave', 'gawking', 'gay', 'gayno', 'gb', 'gear', 'gecko', 'gee', 'geek', 'geekdate', 'geekdilemma', 'geekdom', 'geekery', 'geekest', 'geekfest', 'geeking', 'geekout', 'geeks', 'geekspringbreak', 'geeksrule', 'geeky', 'gen', 'general', 'generally', 'generated', 'generations', 'generous', 'genius', 'geniuses', 'gents', 'geo', 'geogames', 'geolocation', 'germ', 'gesture', 'get', 'getjarsxsw', 'gets', 'getting', 'gettinng', 'giant', 'gibson', 'giddy', 'gift', 'gig', 'giggle', 'gigs', 'gilt', 'ginger', 'girl', 'girlcrush', 'girls', 'git', 'gitchococktailon', 'give', 'giveaway', 'giveaways', 'given', 'gives', 'giving', 'glad', 'glass', 'glasses', 'glenda', 'glimpse', 'global', 'globalbestaward', 'globally', 'glow', 'glowing', 'glued', 'gmail', 'go', 'go2', 'god', 'goddamn', 'godsend', 'goer', 'goers', 'goes', 'gogglers', 'goggles', 'gogo', 'goin', 'going', 'gold', 'golds', 'gone', 'gonna', 'gonnagetanipad2', 'goo', 'good', 'goodcustomerservice', 'gooddeed', 'goodguide', 'goodness', 'goody', 'goog', 'google', 'googleblog', 'googlebread', 'googlecircles', 'googled', 'googledoodle', 'googledoodles', 'googlegays', 'googleio', 'googlemaps', 'googleplaces', 'googletv', 'goona', 'got', 'gotta', 'gotten', 'gotto', 'government', 'govt', 'gowalla', 'gps', 'gr2l2', 'gr8', 'grab', 'grabbed', 'grabs', 'gram', 'gran', 'grand', 'grant', 'granted', 'grape', 'graph', 'graphic', 'graphics', 'grateful', 'gratification', 'great', 'greater', 'greatergood', 'greatest', 'greet', 'greeted', 'griddler', 'griffin', 'grill', 'grille', 'grindr', 'grn7pk', 'grooving', 'ground', 'group', 'groupchatapps', 'grouped', 'groupme', 'groupon', 'groups', 'grow', 'growing', 'grown', 'grrr', 'grrrr', 'grumbling', 'gsd', 'gsdm', 'gswsxsw', 'gt', 'guard', 'guardian', 'guards', 'guess', 'guessing', 'guest', 'guguchu', 'guide', 'guides', 'guild', 'guilty', 'guitar', 'gun', 'guru', 'guy', 'guykawasaki', 'guys', 'gvlrin', 'gym', 'h264', 'h2o', 'h4ckers', 'ha', 'habits', 'hack', 'hackathon', 'hacker', 'hackers', 'hacknews', 'had', 'hah', 'haha', 'hairy', 'haiti', 'half', 'halfway', 'hall', 'halls', 'hallway', 'hamsandwich', 'hand', 'handicapped', 'handing', 'handle', 'handled', 'hands', 'handset', 'handsome', 'handwriting', 'handy', 'hang', 'hanging', 'hangover', 'hangover3', 'hannukah', 'happen', 'happened', 'happening', 'happiest', 'happily', 'happy', 'happydance', 'hard', 'harlow', 'harnessing', 'harris', 'has', 'hash', 'hashable', 'hashtag', 'hashtags', 'hasn', 'hassle', 'hate', 'hated', 'haul', 'hauling', 'have', 'haven', 'havent', 'having', 'havnt', 'hawk', 'hawt', 'haystack', 'haz', 'hcsm', 'hdmi', 'he', 'head', 'headaches', 'headed', 'heading', 'headline', 'headphones', 'heads', 'headsets', 'health2dev', 'hear', 'heard', 'hearing', 'heart', 'heat', 'heating', 'heatmap', 'heats', 'heattracker', 'heavenly', 'heavens', 'heavier', 'heck', 'held', 'hell', 'hello', 'help', 'helped', 'helpful', 'helping', 'helps', 'her', 'here', 'hereforwork', 'herself', 'hey', 'heyo', 'hhaha', 'hhrs', 'hi', 'hidden', 'hide', 'high', 'higher', 'highlight', 'highlights', 'highly', 'hijack', 'hilarious', 'hill', 'hilton', 'him', 'hint', 'hints', 'hip', 'hipstamatic', 'hipster', 'hipstermuch', 'hipsters', 'hire', 'hireme', 'hirer', 'his', 'hiss', 'history', 'hisxsw', 'hit', 'hitlantis', 'hive', 'hls', 'hm', 'hmm', 'hmmm', 'hmmzies', 'hobo', 'hoc', 'hold', 'holding', 'hole', 'holla', 'holler', 'hollergram', 'hollow', 'hollrback', 'hollywood', 'holy', 'holytrafficjams', 'home', 'homeless', 'homepage', 'honesty', 'honor', 'honors', 'hoo', 'hook', 'hooked', 'hoooooooooooooo', 'hooray', 'hoot', 'hooting', 'hootsuite', 'hop', 'hope', 'hopefully', 'hopes', 'hoping', 'hopkins', 'hordes', 'horrendous', 'horrible', 'horror', 'hosted', 'hosting', 'hot', 'hotel', 'hotels', 'hotpot', 'hotspot', 'hottest', 'hour', 'hours', 'house', 'housing', 'how', 'howdy', 'howmto', 'hp', 'hpsxsw', 'hr', 'hrs', 'ht', 'htdfim', 'html', 'html5', 'htt', 'http', 'https', 'hubby', 'huge', 'human', 'hundred', 'hundreds', 'hunger', 'hungry', 'hunt', 'hunts', 'hurricaneparty', 'hurt', 'husband', 'huzzah', 'hyatt', 'hype', 'hyped', 'i41h53', 'ia', 'iads', 'ical', 'icanhas', 'ice', 'icebreaker', 'iconbuffet', 'id', 'id420666439', 'idea', 'ideally', 'ideas', 'identity', 'idiocy', 'idiot', 'idk', 'idol', 'idontbelieve', 'ie', 'ie9', 'ieavob', 'if', 'ifrom', 'ignite', 'ignore', 'igottagetit', 'ihop', 'il', 'illa', 'illegal', 'illmakeitwork', 'iloveasurprise', 'im', 'imac', 'imacs', 'image', 'images', 'imagine', 'imanidiot', 'imanoutcast', 'imho', 'immersive', 'immobile', 'imo', 'imp1000', 'impact', 'impactdashboard', 'impediment', 'impedimenta', 'implement', 'implementation', 'implementing', 'implode', 'important', 'impossible', 'impressed', 'impression', 'impressions', 'impressive', 'impromptu', 'improve', 'improvement', 'improvements', 'improvemnt', 'impulse', 'impulsive', 'imrich', 'imthatgood', 'in', 'inane', 'inbox', 'incapable', 'incenticize', 'incl', 'include', 'included', 'includes', 'including', 'incorrect', 'increase', 'incredible', 'incredibly', 'inde', 'indicates', 'indigenous', 'individuals', 'indoor', 'industry', 'infektd', 'inferior', 'influence', 'influencers', 'influx', 'info', 'informal', 'information', 'informed', 'ing', 'ingenious', 'initial', 'initiative', 'ink', 'innacurate', 'inner', 'innotribe', 'innovate', 'innovating', 'innovation', 'innovative', 'innovators', 'input', 'ins', 'insane', 'insanely', 'insatiable', 'insertion', 'inside', 'insider', 'insidious', 'insight', 'insightful', 'insights', 'insists', 'inspiring', 'instagram', 'install', 'installed', 'installing', 'installs', 'instant', 'instantly', 'instead', 'instruments', 'integrated', 'integration', 'intel', 'intelligence', 'intelligent', 'intended', 'intense', 'intentionally', 'interact', 'interactive', 'interested', 'interesting', 'interface', 'interfaces', 'intermittent', 'international', 'internet', 'internetonlinewebsite', 'interrupt', 'interview', 'interviewed', 'intimate', 'intimidated', 'into', 'intrestin', 'intricate', 'intriguing', 'intro', 'introduced', 'introduces', 'intrvw', 'invades', 'inventing', 'inventory', 'invest', 'investment', 'investor', 'investors', 'invisible', 'invite', 'invited', 'invites', 'invoking', 'io', 'ios', 'ip', 'ip4', 'ipad', 'ipad1', 'ipad2', 'ipad2s', 'ipad2time', 'ipad_2', 'ipaddesignheadaches', 'ipading', 'ipadmadness', 'ipads', 'iphone', 'iphone4', 'iphone5', 'iphones', 'ipod', 'ipods', 'ipoo', 'iqlab', 'iradar', 'irelay', 'ireport', 'iron', 'ironic', 'irrelevant', 'is', 'isack', 'ischafer', 'isn', 'issue', 'issues', 'istache', 'istock', 'it', 'item', 'its', 'itself', 'ittttt', 'itunes', 'itwillbemine', 'iusxsw', 'iwantacameraonmyipad', 'jailbreak', 'jaloux', 'james', 'jammy', 'janecek', 'japan', 'japanese', 'jared', 'java', 'javascript', 'jaw', 'jcpenney', 'jealous', 'jeanne', 'jeans', 'jeebus', 'jeez', 'jeff', 'jerk', 'jerranalley', 'jessedee', 'jet', 'jetsons', 'jinx', 'jk', 'job', 'jobs', 'jobs_co', 'jobsco', 'joe', 'johnston', 'join', 'joined', 'joke', 'jonathan', 'joomla', 'jose', 'josh', 'journal', 'journalists', 'journalsim', 'journey', 'joy', 'jpmobilesummit', 'jqtouch', 'jr', 'js', 'judging', 'juice', 'juiced', 'juicepack', 'julian', 'julie', 'jump', 'june', 'just', 'justin', 'justmet', 'justsaying', 'juts', 'jwtatl', 'jzsxsw', 'kara', 'karaoke', 'karateka', 'kawasaki', 'keep', 'keepaustinweird', 'keeping', 'keeps', 'keg', 'kek', 'ken', 'kenny', 'ketchsx', 'keyboard', 'keynote', 'keys', 'keywords', 'khan', 'khoi', 'kick', 'kickass', 'kicked', 'kicking', 'kid', 'kiddie', 'kidding', 'kids', 'kiiiiiilling', 'kill', 'killcommunity', 'killer', 'killers', 'killing', 'kind', 'kinda', 'kindle', 'king', 'kingston', 'kiosk', 'kirkus', 'kiss', 'kit', 'klick', 'klm', 'knackered', 'knew', 'knickers', 'knife', 'knockout', 'know', 'knowing', 'knowledge', 'known', 'knows', 'korean', 'korine', 'kthxbai', 'kudos', 'kweli', 'kyping', 'l8er', 'la', 'lab', 'labs', 'lack', 'ladies', 'lady', 'lake', 'lame', 'land', 'landlords', 'landmark', 'landscapes', 'lanyrd', 'lap', 'laptop', 'laptops', 'large', 'larger', 'largest', 'larry', 'laser', 'last', 'lasts', 'lat', 'late', 'lately', 'later', 'latest', 'latina', 'latinasintech', 'latism', 'latitude', 'laugh', 'laughed', 'launch', 'launched', 'launches', 'launching', 'launchrock', 'laurieshook', 'lava', 'lavelle', 'law', 'laws', 'lax', 'layed', 'layer', 'lazy', 'lazyweb', 'lbs', 'lead', 'leading', 'league', 'leaked', 'leaning', 'leanstartup', 'learn', 'learned', 'learning', 'leash', 'leasing', 'least', 'leather', 'leave', 'leaves', 'leaving', 'left', 'legacy', 'lego', 'leider', 'leisure', 'leisurely', 'lemon', 'leopard', 'less', 'lessons', 'let', 'lets', 'letschangetheworld', 'letter', 'letting', 'letushopenot', 'level', 'leveraging', 'lewis', 'liberty', 'libraries', 'library', 'licked', 'lie', 'life', 'lifeless', 'lifelinetotheworld', 'lifetime', 'light', 'lightbox', 'lightbulb', 'lighters', 'likability', 'like', 'likeability', 'liked', 'likely', 'likes', 'liking', 'lil', 'limit', 'limited', 'limp', 'lindsay', 'line', 'lines', 'lineup', 'lining', 'link', 'linking', 'links', 'lisa', 'list', 'listen', 'listened', 'listening', 'literally', 'litle', 'little', 'live', 'liveblog', 'lives', 'livesteam', 'livetapp', 'living', 'livingthedream', 'll', 'load', 'loaded', 'loading', 'loathe', 'lobby', 'lobbying', 'local', 'localmind', 'locals', 'locating', 'location', 'locations', 'lockers', 'lockout', 'logic', 'logical', 'login', 'logo', 'logos', 'lol', 'lonely', 'lonelyplanet', 'long', 'longer', 'longlinesbadux', 'look', 'lookalike', 'looked', 'looking', 'lookingforwardtothemusicfest', 'looks', 'loose', 'looseorganizations', 'lord', 'lordy', 'lorry', 'lose', 'losers', 'losing', 'lost', 'lot', 'lots', 'lottery', 'loud', 'louisiana', 'lounge', 'lousy', 'love', 'loved', 'lovefresh', 'loveher', 'lovely', 'lovemusicapi', 'lovers', 'loves', 'lovesit', 'lovin', 'loving', 'lowest', 'loyalty', 'lp', 'lt', 'luck', 'lucky', 'ludicon', 'lug', 'lugging', 'lunch', 'lust', 'lustre', 'luxury', 'lxh', 'ly', 'lying', 'lynn', 'ma', 'mac', 'macallan', 'macbook', 'macbookpro', 'macbooks', 'macchiato', 'machine', 'machines', 'mackbook', 'macs', 'macys', 'mad', 'made', 'madebymany', 'madness', 'mae', 'maes', 'magazine', 'magazines', 'maggie', 'magic', 'maglight', 'magnet', 'magnetic', 'magnifying', 'mags', 'major', 'majority', 'make', 'makery', 'makes', 'makeshift', 'making', 'malady', 'malbonster', 'mall', 'malt', 'man', 'manage', 'management', 'manager', 'managing', 'manhandling', 'mania', 'manor', 'mantra', 'many', 'map', 'mapped', 'mappers', 'mapping', 'mapquest', 'maps', 'mar', 'marcelosomers', 'march', 'margarita', 'margin', 'marisa', 'marissa', 'marissagoogle', 'marissamayer', 'marissameyer', 'mark', 'market', 'marketer', 'marketing', 'marketplace', 'markets', 'mart', 'martinis', 'marty', 'marys', 'masha', 'mashable', 'mashbash', 'mass', 'masses', 'massive', 'mastered', 'matching', 'mater', 'math', 'matt', 'matter', 'matthew', 'maudies', 'mavis', 'may', 'maybe', 'mayer', 'mayers', 'mayor', 'mbp', 'mccannsxsw', 'mdw', 'me', 'mealtime', 'mean', 'meaning', 'meaningful', 'means', 'meant', 'measurement', 'measuring', 'meat', 'mecca', 'mechanics', 'media', 'meet', 'meeting', 'meetings', 'meets', 'meetup', 'meetups', 'mega', 'megastore', 'meh', 'mekong', 'mel', 'member', 'memolane', 'memories', 'men', 'mention', 'mentioned', 'mentionn', 'mentionr', 'merchant', 'mercy', 'message', 'messages', 'messaging', 'messed', 'messenger', 'messina', 'met', 'metaphor', 'methinks', 'mexican', 'mhealth', 'miamibeach', 'mic', 'michael', 'michaelpiliero', 'microformats', 'microsoft', 'mid', 'midday', 'middle', 'midem', 'midnight', 'midst', 'midway', 'mifi', 'might', 'mike', 'miles', 'military', 'mill', 'miller', 'million', 'millions', 'min', 'mind', 'mindjet', 'mindmanager', 'minds', 'mindshare', 'mine', 'mini', 'minimalistprogramming', 'minor', 'mint', 'minute', 'minutes', 'miracle', 'mirroring', 'miss', 'missed', 'missing', 'mission', 'misstatements', 'mistake', 'mistakes', 'mister', 'mitharvard', 'mix', 'mixed', 'mixing', 'mk', 'mkt', 'mktg', 'mmm', 'mmod', 'mnbuzz', 'mngr', 'mobil', 'mobile', 'mobilefarm', 'mobileroadie', 'mobs', 'mock', 'mocked', 'mocking', 'mode', 'model', 'models', 'moderator', 'mom', 'moma', 'moment', 'momento', 'moments', 'mommy', 'mon', 'monday', 'mondays', 'monetization', 'money', 'monger', 'monitor', 'monopoly', 'monster', 'month', 'months', 'mood', 'moody', 'moonbot', 'moonshine', 'mophie', 'more', 'moreknowledge', 'morning', 'morphie', 'mosaicxm', 'most', 'mostly', 'motherboard', 'mothers', 'motivator', 'motorola', 'mountain', 'mounts', 'mouse', 'move', 'moves', 'movie', 'movies', 'moving', 'mozilla', 'mp', 'mp3', 'mq', 'mr', 'mrs', 'msft', 'mt', 'much', 'mullenweg', 'multiple', 'muro', 'murphy', 'museum', 'museums', 'music', 'musica', 'musicians', 'musicviz', 'musiek', 'musik', 'musique', 'must', 'mute', 'muting', 'mwrc11', 'my', 'myegc', 'mylunch', 'mypov', 'myself', 'myspace', 'mystery', 'nab', 'nailed', 'naive', 'name', 'named', 'naomi', 'nat', 'native', 'natural', 'navigating', 'navigation', 'nba', 'nc', 'ncaa', 'near', 'nearly', 'neat', 'need', 'needle', 'needs', 'neither', 'nerd', 'nerdbird', 'nerdcore', 'nerdheaven', 'nerdiest', 'nerds', 'nerdsunite', 'nerdy', 'ness', 'netbook', 'netflix', 'netflixiphone', 'network', 'networking', 'networks', 'neumann', 'never', 'new', 'newapplestoreaustin', 'newest', 'newly', 'news', 'newsapps', 'newspaper', 'newspapers', 'newtrent', 'next', 'nextflix', 'nexus', 'nfc', 'nfl', 'nhk', 'nice', 'nicely', 'niceness', 'nick', 'nieuwe', 'nifty', 'night', 'nightjar', 'nike', 'nine', 'nineties', 'ning', 'ninjafinder', 'no', 'nobody', 'noes', 'nokia', 'nokiaconnects', 'non', 'nonprofit', 'nonprofits', 'noon', 'nope', 'nor', 'normal', 'not', 'notch', 'note', 'notes', 'notetaker', 'notevenstartedyet', 'nothing', 'notice', 'noticed', 'notionink', 'notpouting', 'notsomuch', 'nottheipad2', 'novelty', 'novideo', 'now', 'nowhammies', 'npr', 'nptech', 'nten', 'ntn', 'nuances', 'nudgenudge', 'numbassonfloor', 'number', 'nur', 'nuts', 'nutshell', 'nutters', 'nvidia', 'nxt', 'nyc', 'nyt', 'object', 'objective', 'obs', 'observation', 'observations', 'observer', 'obsessed', 'obsolete', 'obv', 'obvious', 'obviously', 'occasional', 'of', 'off', 'offer', 'offered', 'offering', 'offers', 'office', 'officer', 'official', 'officially', 'offline', 'offsite', 'often', 'ogilvy', 'ogilvynotes', 'oh', 'oil', 'ok', 'okay', 'ol', 'old', 'oldschool', 'oldsko0l', 'omaha', 'omfg', 'omg', 'omgz', 'omitting', 'on', 'once', 'one', 'ones', 'online', 'only', 'onto', 'ooing', 'oooh', 'ooooo', 'open', 'openbeta', 'openbeta6', 'opened', 'openexhibits', 'opening', 'opens', 'operators', 'opinions', 'opportunity', 'opposite', 'optimistic', 'optimized', 'optimum', 'options', 'optiscan', 'or', 'orange', 'order', 'ordered', 'ordering', 'ordinance', 'org', 'organic', 'organically', 'organization', 'organize', 'organized', 'organizing', 'original', 'orkut', 'orlando', 'orly', 'oscars', 'osmpw', 'ossum', 'other', 'others', 'otherwise', 'ouch', 'our', 'ours', 'out', 'outbrain', 'outdid', 'outlandish', 'outlet', 'outlook', 'outs', 'outside', 'over', 'overall', 'overblown', 'overcome', 'overflow', 'overheard', 'overheating', 'overlaid', 'overlapping', 'overlay', 'overload', 'overshadowing', 'oversized', 'overtaken', 'overview', 'overwhelming', 'owl', 'owllove', 'own', 'owner', 'owners', 'owns', 'oy', 'pac', 'pacific', 'pack', 'packed', 'packing', 'packrat', 'packs', 'padless', 'page', 'pagemaker', 'pages', 'paid', 'painful', 'pair', 'paired', 'pak', 'pakistan', 'palette', 'palsy', 'pandora', 'panel', 'panelist', 'panelists', 'panels', 'panhandling', 'panic', 'panned', 'panning', 'pants', 'paolo', 'papa', 'papasangre', 'paper', 'paperless', 'papyrus', 'para', 'parachute', 'parentheses', 'parents', 'pariah', 'park', 'parked', 'part', 'partial', 'participants', 'participating', 'parties', 'partner', 'partnerhub', 'partnership', 'parts', 'party', 'partying', 'partytweets', 'pass', 'passage', 'passenger', 'passes', 'passing', 'passport', 'past', 'paste', 'patch', 'path', 'patience', 'paul', 'pauly', 'pause', 'pavement', 'pay', 'paying', 'payingwithdata', 'payments', 'paypal', 'pc', 'pcbuzz', 'pcma', 'pdanet', 'pdf', 'pdx', 'peaked', 'pearl', 'peddle', 'pedicab', 'peek', 'peeps', 'peer', 'pen', 'penetrates', 'pengairborne', 'penguin', 'people', 'pep', 'per', 'percent', 'percentage', 'perfect', 'perfectly', 'performance', 'perhaps', 'periscope', 'permanent', 'permanently', 'perserverance', 'person', 'personal', 'personalized', 'peter', 'petition', 'petricone', 'petting', 'phenomenal', 'phew', 'phone', 'phones', 'photo', 'photobooth', 'photoes', 'photos', 'photosharing', 'physical', 'pi', 'pic', 'pick', 'picked', 'picking', 'pickmeupanipad2', 'pics', 'picture', 'pictures', 'pie', 'piece', 'pig', 'pigfucker', 'pilhofer', 'pillow', 'pinoy', 'piping', 'piss', 'pissedimnotgoingtosxsw', 'pissing', 'pit', 'pitch', 'pitchforks', 'pitfalls', 'pitted', 'pix', 'pixel', 'pixelated', 'pixels', 'pixieengine', 'place', 'places', 'plaid', 'plain', 'plan', 'plancast', 'plane', 'planely', 'planes', 'planet', 'planner', 'planning', 'plans', 'planting', 'planzai', 'plate', 'platform', 'play', 'playback', 'playbook', 'played', 'player', 'players', 'playhopskoch', 'playing', 'playstation', 'playsxsw', 'please', 'pleased', 'plenty', 'plied', 'pls', 'plug', 'pluged', 'plugin', 'plunge', 'plus', 'pm', 'pnid', 'pocket', 'podcast', 'poetry', 'point', 'pointer', 'points', 'police', 'policy', 'politics', 'pollak', 'ponies', 'poo', 'pool', 'poole', 'poor', 'poos', 'pop', 'popped', 'popping', 'popplet', 'poppop', 'popular', 'populous', 'popup', 'popupshop', 'popupstore', 'por', 'porn', 'portable', 'porting', 'posed', 'position', 'positioning', 'positive', 'positively', 'positives', 'possibility', 'possible', 'possibly', 'post', 'posted', 'postpc', 'pot', 'potential', 'potentially', 'pour', 'poursite', 'power', 'powerful', 'powerhouse', 'powering', 'powermat', 'powermatteam', 'powermattteam', 'pp', 'ppl', 'pr', 'practice', 'pragmatic', 'pre', 'precedent', 'precommerce', 'prefer', 'preference', 'preferences', 'preferrably', 'preferred', 'prefers', 'premature', 'premiere', 'premium', 'prep', 'preparation', 'preparations', 'prepared', 'preparing', 'prepping', 'presence', 'present', 'presentation', 'presented', 'presenters', 'presenting', 'preso', 'press', 'pressie', 'pressure', 'pretty', 'prettycool', 'preview', 'previews', 'previous', 'price', 'prices', 'pride', 'princess', 'principles', 'print', 'printed', 'prints', 'priorities', 'priority', 'privacy', 'private', 'prize', 'prizes', 'pro', 'prob', 'probably', 'problem', 'process', 'prodmktg', 'produced', 'producers', 'product', 'products', 'professionals', 'profile', 'profits', 'program', 'programming', 'progressbar', 'progression', 'project', 'project314', 'projecting', 'projects', 'promises', 'promo', 'promote', 'promotion', 'prompt', 'proof', 'propping', 'proprietary', 'props', 'protect', 'protecting', 'protip', 'protocol', 'proud', 'provide', 'provided', 'providing', 'proving', 'ps', 'pseudoretweet', 'psfk', 'pst', 'psych', 'psyched', 'psyches', 'pub', 'pubcamp', 'public', 'publishers', 'publishing', 'pull', 'pulling', 'pumped', 'pumps', 'pun', 'puppy', 'purchase', 'purchased', 'purchasers', 'purchases', 'purchasing', 'pure', 'puregenius', 'purpose', 'push', 'pushed', 'pusher', 'pushio', 'pushsnowboarding', 'put', 'puts', 'putting', 'puzzles', 'q7a', 'qa', 'qagb', 'qho', 'qr', 'qrafter', 'qrank', 'qrcode', 'qs', 'quadroid', 'quake', 'qualcomm', 'qualified', 'quality', 'quantity', 'quantter', 'quarantined', 'quarter', 'quarters', 'que', 'question', 'questioner', 'questions', 'queue', 'quibids', 'quibidswin', 'quick', 'quicker', 'quickly', 'quiet', 'quinn', 'quit', 'quite', 'quot', 'quotable', 'quotables', 'quotes', 'race', 'rachael', 'rad', 'radical', 'radio', 'raffled', 'raffling', 'rage', 'rails', 'rain', 'rainjacket', 'raised', 'raises', 'rallying', 'ran', 'rana', 'random', 'randomly', 'range', 'rank', 'ranked', 'ranking', 'rankings', 'rant', 'rare', 'rate', 'rates', 'rather', 'rating', 'ratings', 'ratio', 'ray', 're', 'reach', 'reached', 'reacquainted', 'read', 'reader', 'readership', 'reading', 'ready', 'real', 'realistic', 'reality', 'realize', 'realized', 'realizing', 'realllllllly', 'really', 'realtime', 'rear', 'reason', 'reasonable', 'reasoning', 'reasons', 'rebecca', 'rebeltv', 'rebranded', 'recap', 'received', 'recharge', 'recharging', 'recipe', 'recipes', 'recipient', 'reclaimed', 'recognition', 'recognize', 'recomds', 'recommend', 'recommendation', 'recommendations', 'recommended', 'recommends', 'record', 'recorder', 'recos', 'recovery', 'recreated', 'recs', 'recycled', 'red', 'redbox', 'redbull', 'reddit', 'rediculous', 'reel', 'ref', 'referrals', 'refine', 'refresh', 'refrigerator', 'regarded', 'regel', 'regions', 'register', 'registers', 'registrant', 'regrets', 'regretting', 'regular', 'regularly', 'rei', 'reid', 'reilly', 'reily', 'rejection', 'related', 'relation', 'relationship', 'relaxed', 'relaxing', 'release', 'released', 'releases', 'releasing', 'relevant', 'relic', 'relief', 'relies', 'religion', 'relinquish', 'relive', 'reliving', 'remaining', 'rematch', 'remedied', 'remember', 'remembered', 'reminding', 'removable', 'remove', 'rendering', 'renders', 'repair', 'replaced', 'replacement', 'replacing', 'replenished', 'replicate', 'replies', 'report', 'reporting', 'reports', 'repressed', 'reproducing', 'republic', 'reputation', 'rerouted', 'rescuing', 'research', 'resetting', 'resist', 'resonance', 'resource', 'resourceful', 'respect', 'respectfully', 'respecting', 'response', 'responses', 'responsibility', 'rest', 'restaurant', 'restaurants', 'restful', 'resting', 'restore', 'restored', 'restraunts', 'result', 'resulting', 'results', 'resume', 'retail', 'retiring', 'retrollect', 'return', 'retweet', 'retweeting', 'revealed', 'reveals', 'revelations', 'revenge', 'revenue', 'review', 'reviews', 'revolt', 'revolution', 'revolutionary', 'revolutions', 'reward', 'rewards', 'rewardswagon', 'rf', 'rhizome', 'richard', 'ridculous', 'ride', 'rides', 'ridic', 'ridicule', 'ridiculous', 'ridiculously', 'rig', 'rigeur', 'right', 'rightfully', 'rim', 'rimmed', 'ringing', 'rinna', 'riots', 'rip', 'ripped', 'ripping', 'rise', 'rise_austin', 'rite', 'river', 'rji', 'rm', 'road', 'roadie', 'roaming', 'robot', 'robots', 'rock', 'rockaroke', 'rocked', 'rockin', 'rocking', 'rocks', 'rockstache', 'role', 'roll', 'roof', 'room', 'rosso', 'rotational', 'round', 'route', 'routes', 'routing', 'row', 'rows', 'rpg', 'rsq', 'rsvp', 'rt', 'rub', 'rubbing', 'rule', 'rules', 'rumor', 'rumored', 'rumors', 'rumours', 'run', 'runaround', 'running', 'runs', 'rww', 'saatchiny', 'saber', 'sabotaged', 'sad', 'sadly', 'safari', 'said', 'sale', 'sales', 'salesperson', 'salon', 'sam', 'same', 'sampler', 'samsung', 'samsungmobileus', 'san', 'sandwich', 'sandwiched', 'sangre', 'sans', 'sapient', 'sat', 'saturday', 'sauce', 'save', 'savebrands', 'saved', 'saves', 'saveustechies', 'saving', 'savings', 'savvy', 'saw', 'say', 'saying', 'says', 'saysshewithoutanipad', 'scale', 'scan', 'scans', 'scarborough', 'scarbrough', 'scared', 'scarfing', 'scary', 'scavenger', 'scene', 'scenes', 'scepticism', 'sched', 'schedule', 'scheduled', 'scheduler', 'schedules', 'scheduling', 'schemas', 'school', 'schools', 'schtuff', 'schwag', 'science', 'scientific', 'scoping', 'score', 'scored', 'scoremore', 'scouts', 'screamed', 'screams', 'screen', 'screening', 'screenings', 'sd', 'sea', 'search', 'searchable', 'searches', 'searching', 'season', 'seat', 'seated', 'seats', 'seattle', 'sec', 'second', 'seconds', 'secret', 'security', 'see', 'seeing', 'seem', 'seemed', 'seemingly', 'seems', 'seen', 'seenocreepy', 'sees', 'seesmic', 'select', 'selected', 'selection', 'self', 'selfish', 'sell', 'selling', 'sells', 'sem', 'semantic', 'send', 'sending', 'sense', 'sent', 'seo', 'separate', 'september', 'serendipity', 'serious', 'seriously', 'seriousness', 'serv', 'serve', 'served', 'server', 'servers', 'serves', 'service', 'services', 'sesh', 'session', 'sessions', 'set', 'seta', 'sets', 'setting', 'settle', 'settling', 'setup', 'several', 'severe', 'severely', 'sfo', 'shade', 'shades', 'shakespeare', 'shall', 'shallow', 'shame', 'shamed', 'shameless', 'shaping', 'share', 'shareable', 'shared', 'sharers', 'sharing', 'sharp', 'shat', 'shatter', 'she', 'sheen', 'sheeple', 'shell', 'shelves', 'sheraton', 'shift', 'shill', 'shiner', 'shinmy', 'shiny', 'shipment', 'shipments', 'ships', 'shirt', 'shit', 'shite', 'shitty', 'shocked', 'shoot', 'shooting', 'shop', 'shops', 'short', 'shortcuts', 'shortening', 'shortly', 'shot', 'shotgun', 'should', 'shoulda', 'shoulder', 'shouldn', 'shout', 'shouts', 'show', 'showcase', 'showcased', 'showcases', 'showed', 'showing', 'shows', 'showusyouricrazy', 'shrink', 'shuffling', 'shut', 'sick', 'side', 'sides', 'sigh', 'sighting', 'sightings', 'sign', 'signal', 'signals', 'signed', 'signing', 'signs', 'silicon', 'sillier', 'silly', 'silver', 'simple', 'simply', 'simultaneously', 'sin', 'since', 'singing', 'single', 'singularity', 'sipping', 'sis', 'sister', 'sit', 'sitby', 'site', 'sites', 'sitting', 'six', 'sixth', 'size', 'skateboards', 'skepticism', 'sketch', 'sketchy', 'skiers', 'skill', 'skillfully', 'skills', 'skinny', 'skip', 'skulls', 'skyfire', 'skynet', 'skype', 'slap', 'slated', 'sleek', 'sleep', 'sleepy', 'sleeves', 'slice', 'sliced', 'slick', 'slides', 'slightly', 'slim', 'slips', 'sloanxsw', 'slow', 'slower', 'slowly', 'slowpoke', 'slp', 'smackdown', 'small', 'smallbiz', 'smaller', 'smart', 'smartcover', 'smarter', 'smartest', 'smartphone', 'smartphones', 'smartthings', 'smashed', 'smcdallas', 'smcomedyfyeah', 'smell', 'smileyparty', 'smm', 'smmnextgen', 'smokes', 'smooth', 'smtravel', 'smudgy', 'smugness', 'smurf', 'smut', 'smvis', 'smyle', 'sn', 'snagged', 'snakeheead', 'snap', 'snapping', 'snarky', 'sneakers', 'sneaky', 'so', 'socbiz', 'social', 'socialfuel', 'socially', 'socialmedia', 'socialmediabum', 'socialmuse', 'socialviewing', 'society', 'socks', 'socnet', 'softball', 'softlayer', 'software', 'sold', 'solely', 'solid', 'solo', 'solution', 'solutions', 'solves', 'solving', 'some', 'somebody', 'someday', 'somehow', 'someone', 'someones', 'something', 'somewhere', 'song', 'songs', 'sonos', 'sony', 'soo', 'soon', 'sore', 'sorry', 'sort', 'sorta', 'sorted', 'sound', 'soundcloud', 'sounding', 'sounds', 'source', 'south', 'southby', 'southpaw', 'southwest', 'space', 'spanking', 'spark', 'spasmatics', 'spazmatic', 'spazmatics', 'speak', 'speakeasy', 'speaking', 'speaks', 'special', 'specials', 'specific', 'speech', 'speed', 'speedup', 'spell', 'spend', 'spending', 'spent', 'spider', 'spilled', 'spin', 'spinning', 'spirit', 'spoiled', 'spoke', 'spoken', 'sponso', 'sponsored', 'spontaniety', 'sporting', 'spot', 'spots', 'spotted', 'spread', 'spring', 'sprinkle', 'sprint', 'spy', 'sq', 'square', 'squeal', 'squeeze', 'srsly', 'st', 'stabilizer', 'stacks', 'staff', 'stage', 'stand', 'standard', 'standardization', 'standing', 'star', 'starbu', 'starbucks', 'staring', 'starry', 'stars', 'start', 'started', 'starting', 'starts', 'startup', 'startupbus', 'startups', 'statement', 'states', 'station', 'stations', 'stats', 'statuses', 'stay', 'staying', 'stays', 'steady', 'stealing', 'steals', 'steampunk', 'steamy', 'stellar', 'step', 'stepped', 'stereo', 'sters', 'steve', 'stickers', 'still', 'stillman', 'stock', 'stogies', 'stoked', 'stole', 'stolen', 'stood', 'stop', 'stopped', 'stops', 'storage', 'store', 'stores', 'stories', 'storm', 'story', 'straight', 'strange', 'strangeproblems', 'stranger', 'strangers', 'straps', 'strategy', 'straw', 'stream', 'streaming', 'streams', 'street', 'streetview', 'strength', 'stress', 'stretches', 'striking', 'strip', 'strive', 'stroke', 'strong', 'structured', 'struggle', 'strums', 'stuck', 'studentsforcleanwater', 'studies', 'studios', 'study', 'studying', 'stuff', 'stumbledupon', 'stumbling', 'stunning', 'stunt', 'stupid', 'style', 'stylish', 'suasxsw', 'subscription', 'subscriptions', 'succeed', 'success', 'successful', 'succumb', 'such', 'suck', 'suckas', 'sucked', 'suckling', 'sucks', 'suddenly', 'suffered', 'suffering', 'suggest', 'suggestion', 'suggestions', 'suicidal', 'suicide', 'sullivan', 'sum', 'summer', 'summit', 'sun', 'sunday', 'sundayswagger', 'sunglasses', 'sunny', 'suns', 'super', 'superbia', 'supply', 'support', 'suppose', 'supposed', 'supposedly', 'sure', 'surely', 'surface', 'surpassed', 'surplus', 'surprise', 'surprises', 'surrounded', 'surui', 'survey', 'survival', 'survive', 'survived', 'suspense', 'sustainability', 'sux', 'suxsw', 'svcs', 'swag', 'swarming', 'swarms', 'sweater', 'sweeeeet', 'sweeeet', 'sweepstakes', 'sweet', 'sweets', 'swift', 'swing', 'swish', 'swisher', 'switch', 'switches', 'swonderlin', 'swoon', 'swsurrogates', 'swsx', 'sxfl', 'sxflip', 'sxprotect', 'sxsh', 'sxsurrogates', 'sxsw', 'sxsw11', 'sxsw2011', 'sxsw4japan', 'sxswaccel', 'sxswbarcrawl', 'sxswbigbrands', 'sxswbuffalo', 'sxswchi', 'sxswfail', 'sxswgood', 'sxswh', 'sxswi', 'sxswk', 'sxswlatam', 'sxswmobileapps', 'sxswmoot', 'sxswmusic', 'sxswmymistake', 'sxswnui', 'sxswpass', 'sxswsa', 'sxswsex', 'sxswsmall', 'sxswtoolkit', 'sxtxstate', 'sxwsi', 'sxxpress', 'syked', 'symbian', 'symbol', 'sync', 'synced', 'synching', 'syncing', 'syncs', 'synergy', 'system', 'systems', 'taariq', 'tab', 'table', 'tables', 'tablet', 'tablets', 'taccsxsw', 'tacos', 'tag', 'tagging', 'take', 'takeaway', 'taken', 'takeover', 'takes', 'takin', 'taking', 'talent', 'talented', 'talib', 'talk', 'talked', 'talking', 'talks', 'tan', 'tap', 'tapworthy', 'target', 'task', 'tastes', 'tattoo', 'tattooed', 'taught', 'taunt', 'tax', 'taxi', 'tbalinas', 'tbwasxsw', 'tc', 'tchin', 'tdg', 'teach', 'teaching', 'team', 'team_android', 'teamandroid', 'teamandroidsxsw', 'teams', 'tear', 'teathering', 'tech', 'tech4good', 'tech_news', 'techcrunch', 'techenvy', 'techgeek', 'techie', 'techies', 'techiesunite', 'technews', 'technical', 'techno', 'technology', 'techrockstar', 'techsmith', 'tee', 'teeming', 'teeny', 'teeth', 'telegraph', 'teleporting', 'television', 'telework', 'tell', 'tells', 'temp', 'temperature', 'temperatures', 'temporary', 'tempt', 'temptation', 'tempted', 'tempting', 'ten', 'tenets', 'tent', 'teo', 'term', 'terminal', 'terms', 'terrible', 'test', 'tested', 'testing', 'tests', 'tether', 'tethering', 'texas', 'texasevery', 'text', 'texting', 'th', 'than', 'thank', 'thanks', 'thanksforthebrandedshades', 'thankyouecon', 'that', 'the', 'the_daily', 'theatre', 'theem', 'theft', 'thegogame', 'theindustryparty', 'their', 'theirs', 'them', 'theme', 'themed', 'themselves', 'then', 'thenextweb', 'theplatform', 'ther', 'therapy', 'there', 'thereby', 'therefore', 'these', 'thewildernessdowntown', 'they', 'thick', 'thier', 'thin', 'thing', 'things', 'thingsthatdontgotogether', 'think', 'thinking', 'thinks', 'thinmints', 'thinner', 'third', 'thirsty', 'this', 'thisisdare', 'tho', 'thomas', 'thoora', 'those', 'though', 'thought', 'thoughtful', 'thoughts', 'thousands', 'threat', 'three', 'threw', 'thrilled', 'through', 'throughout', 'throw', 'throwin', 'throwing', 'thru', 'tht', 'thumbs', 'thunder', 'thursday', 'thus', 'thx', 'ticket', 'tidbit', 'tiff', 'tigerblood', 'til', 'till', 'tim', 'timberlake', 'time', 'timechange', 'timeline', 'timely', 'times', 'timing', 'tinkering', 'tiny', 'tinyurl', 'tip', 'tips', 'tis', 'title', 'titles', 'tix', 'tkts', 'tm', 'tme', 'tmobile', 'tmr', 'tmsxsw', 'tnw', 'tnx', 'to', 'toast', 'today', 'together', 'told', 'tomlinson', 'tomorrow', 'ton', 'tonchidot', 'tonigh', 'tonight', 'tons', 'too', 'toocoolforsxswanyway', 'toodamnlucky', 'took', 'tool', 'toolkit', 'toolongforme', 'tools', 'toooo', 'top', 'topicality', 'topics', 'topnews', 'tops', 'topspin', 'torch', 'tore', 'torture', 'torturous', 'total', 'totalitarian', 'totally', 'toting', 'touch', 'touched', 'touching', 'touchingstories', 'tough', 'tougher', 'toured', 'tournament', 'towards', 'towel', 'town', 'toy', 'track', 'tracker', 'trackpads', 'tracks', 'tractor', 'trade', 'traded', 'tradeshow', 'traffic', 'trailer', 'train', 'trajan', 'tramplings', 'transfer', 'transient', 'transition', 'translated', 'transparency', 'transparently', 'trashy', 'trauma', 'travel', 'travelers', 'traveling', 'traveller', 'treatment', 'trenches', 'trend', 'trending', 'trends', 'tribes', 'tricked', 'tried', 'tries', 'trigger', 'trip', 'tripping', 'tron', 'trophy', 'trouble', 'truck', 'trucks', 'true', 'truly', 'trumping', 'trumps', 'trust', 'trusted', 'trustworthiness', 'truth', 'try', 'trying', 'ts', 'tshirt', 'tsunami', 'tt', 'tub', 'tube', 'tuesday', 'tumblr', 'tunage', 'tune', 'tuned', 'tunehopper', 'tunes', 'turing', 'turkey', 'turn', 'turned', 'turning', 'turns', 'tv', 'tveverywhere', 'tvontheradio', 'tvs', 'tweeps', 'tweet', 'tweetcaster', 'tweetdeck', 'tweeted', 'tweethouse', 'tweetie', 'tweetignite', 'tweeting', 'tweets', 'tweetup', 'twice', 'twit', 'twitpic', 'twitter', 'twittering', 'twitterpower', 'two', 'tx', 'tye', 'type', 'typing', 'tyson', 'uber', 'uberguide', 'ubersocial', 'ubertwitter', 'ubiquitous', 'ubiquity', 'ubuntu', 'ugh', 'ughhh', 'ui', 'um', 'umassjour', 'umm', 'ummmm', 'umshini', 'un', 'una', 'unabashed', 'unadulterated', 'unbearable', 'unbelievable', 'unboxing', 'uncategorized', 'uncharged', 'unconfirmed', 'under', 'underestimate', 'underneath', 'understand', 'understanding', 'underway', 'underwire', 'undoubtedly', 'unequipped', 'unexpected', 'ungrateful', 'unimitated', 'unique', 'unite', 'united', 'units', 'universe', 'unleash', 'unless', 'unlisted', 'unloaded', 'unloading', 'unlockable', 'unlocking', 'unoffic', 'unofficial', 'unpack', 'unpaid', 'unreal', 'unscientific', 'unsix', 'unstable', 'untapped', 'until', 'unveil', 'unveiled', 'unveiling', 'unveils', 'uosxsw', 'up', 'upbeat', 'upc', 'update', 'updated', 'updates', 'updating', 'upgrade', 'upgrading', 'upload', 'uppward', 'ups', 'upset', 'upside', 'ur', 'urs', 'urthots', 'us', 'usa', 'usability', 'usage', 'usb', 'usdes', 'use', 'used', 'useful', 'usefulness', 'useless', 'user', 'users', 'uses', 'usguys', 'using', 'ustream', 'usual', 'usurped', 'utilize', 'utter', 'ux', 'uxdes', 'uzu', 'v1', 'v2', 'v3', 'v5', 'vacation', 'valid', 'valley', 'valuable', 'value', 'values', 'vast', 'vb', 'vcards', 've', 'vector', 'vectors', 'vegan', 'vegas', 'vending', 'venturebeat', 'venue', 'venues', 'ver', 'verizon', 'verpixelungsrecht', 'version', 'versions', 'very', 'veryslow', 'vestibule', 'veterans', 'via', 'viagra', 'vibe', 'vicariously', 'victims', 'vid', 'video', 'videogame', 'videogames', 'videos', 'vids', 'view', 'view512', 'viewed', 'viewing', 'views', 'vinh', 'vintage', 'vip', 'virgin', 'virginity', 'virtual', 'virtually', 'virtualoffice', 'virtualwallet', 'visigoths', 'visit', 'visiting', 'visitors', 'visits', 'visual', 'visualization', 'visualizing', 'vmware', 'voice', 'voicefeed', 'volume', 'voluntarily', 'volunteers', 'vortex', 'vote', 'voxpop', 'vp', 'vs', 'vuelta', 'vufinders', 'vuvuzela', 'w00t', 'waaaaaa', 'wack', 'wait', 'waited', 'waiting', 'wakeup', 'wal', 'walk', 'walked', 'walkin', 'walking', 'walks', 'wall', 'wallace', 'walmart', 'wam', 'wandered', 'wanderer', 'wanna', 'wannabe', 'want', 'wanted', 'wanting', 'wants', 'war', 'warmer', 'warmth', 'warning', 'wars', 'wary', 'was', 'wasn', 'waste', 'wasted', 'wasting', 'watch', 'watched', 'watching', 'water', 'waterproof', 'watson', 'wave', 'way', 'ways', 'waze', 'we', 'wearing', 'weasel', 'weather', 'web', 'web3', 'web30', 'webdoc', 'webkit', 'webmail', 'webmasters', 'website', 'websites', 'webvisions', 'wed', 'week', 'weekend', 'weeks', 'weeping', 'weight', 'weinschenk', 'weird', 'welcome', 'welivehere', 'well', 'went', 'were', 'weren', 'wesley83', 'weve', 'wew', 'whale', 'what', 'whatcha', 'when', 'where', 'whether', 'which', 'while', 'whimsical', 'white', 'whiteboarding', 'who', 'whoa', 'whole', 'whoooooo', 'whoops', 'whowillrise', 'whrrl', 'why', 'wi', 'wider', 'widfy', 'widgets', 'wife', 'wifi', 'wii', 'wil', 'wild', 'wilderness', 'will', 'williams', 'willing', 'willpay', 'willpower', 'wilting', 'win', 'winamp', 'windows', 'wine', 'wings', 'winner', 'winners', 'winning', 'wins', 'wintel', 'winwin', 'wipes', 'wired', 'wireless', 'wires', 'wise', 'wish', 'wishing', 'with', 'within', 'withme', 'without', 'witty', 'wjchat', 'wk', 'wkd', 'wkend', 'wknd', 'woah', 'wodpress', 'woes', 'wohooo', 'woke', 'wolfenstein', 'wolfram', 'woman', 'women', 'won', 'wonder', 'wonderful', 'wondering', 'wonders', 'woo', 'woohoo', 'wooooo', 'woops', 'woot', 'word', 'wordnerd', 'wordpress', 'words', 'work', 'worked', 'workers', 'workin', 'working', 'works', 'workspace', 'world', 'worlds', 'worldwide', 'worn', 'worried', 'worry', 'worse', 'worst', 'worth', 'worthwhile', 'wot', 'would', 'wouldn', 'wow', 'wowwwwww', 'wozniak', 'wp7', 'wr', 'wrap', 'wrapper', 'write', 'writer', 'writing', 'wrong', 'wrote', 'wsj', 'wssxsw', 'wtf', 'wth', 'wundertablet', 'wwsxsw', 'www', 'x6t1pi6av7', 'xbox', 'xd', 'xipad', 'xm', 'xmas', 'xml', 'xoom', 'xperia', 'xwave', 'ya', 'yai', 'yall', 'yawn', 'yay', 'yea', 'yeaayyy', 'yeah', 'year', 'years', 'yeasayer', 'yeay', 'yellow', 'yelp', 'yelping', 'yep', 'yer', 'yes', 'yesterday', 'yet', 'yield', 'yikes', 'yo', 'yobongo', 'yonkers', 'york', 'you', 'youneedthis', 'your', 'yours', 'yourself', 'youtube', 'yowza', 'yr', 'yrs', 'yummy', 'yup', 'zaarly', 'zaarlyiscoming', 'zagg', 'zaggle', 'zappos', 'zazzle', 'zazzlesxsw', 'zazzlsxsw', 'ze', 'zelda', 'zeldman', 'zero', 'zimride', 'zing', 'zip', 'zite', 'zms', 'zombies', 'zomg', 'zone', 'zoom', 'zzzs']\n"
     ]
    }
   ],
   "source": [
    "print (vect.get_feature_names())"
   ]
  },
  {
   "cell_type": "markdown",
   "metadata": {
    "colab_type": "text",
    "id": "dwtgjTBeH0Ny"
   },
   "source": [
    "#### Tip: To see all available functions for an Object use dir"
   ]
  },
  {
   "cell_type": "code",
   "execution_count": 20,
   "metadata": {
    "colab": {},
    "colab_type": "code",
    "id": "2n_iCcTNH0N0"
   },
   "outputs": [
    {
     "data": {
      "text/plain": [
       "['CountVectorizer',\n",
       " 'In',\n",
       " 'LogisticRegression',\n",
       " 'MultinomialNB',\n",
       " 'Out',\n",
       " 'TfidfVectorizer',\n",
       " 'X',\n",
       " 'X_dtm',\n",
       " 'Y',\n",
       " '_',\n",
       " '_10',\n",
       " '_12',\n",
       " '_13',\n",
       " '_14',\n",
       " '_15',\n",
       " '_17',\n",
       " '_18',\n",
       " '_3',\n",
       " '_7',\n",
       " '_8',\n",
       " '__',\n",
       " '___',\n",
       " '__builtin__',\n",
       " '__builtins__',\n",
       " '__doc__',\n",
       " '__loader__',\n",
       " '__name__',\n",
       " '__package__',\n",
       " '__spec__',\n",
       " '_dh',\n",
       " '_i',\n",
       " '_i1',\n",
       " '_i10',\n",
       " '_i11',\n",
       " '_i12',\n",
       " '_i13',\n",
       " '_i14',\n",
       " '_i15',\n",
       " '_i16',\n",
       " '_i17',\n",
       " '_i18',\n",
       " '_i19',\n",
       " '_i2',\n",
       " '_i20',\n",
       " '_i3',\n",
       " '_i4',\n",
       " '_i5',\n",
       " '_i6',\n",
       " '_i7',\n",
       " '_i8',\n",
       " '_i9',\n",
       " '_ih',\n",
       " '_ii',\n",
       " '_iii',\n",
       " '_oh',\n",
       " 'data',\n",
       " 'data_sub',\n",
       " 'exit',\n",
       " 'get_ipython',\n",
       " 'metrics',\n",
       " 'np',\n",
       " 'pd',\n",
       " 'quit',\n",
       " 're',\n",
       " 'sp',\n",
       " 'train_test_split',\n",
       " 'vect',\n",
       " 'warnings']"
      ]
     },
     "execution_count": 20,
     "metadata": {},
     "output_type": "execute_result"
    }
   ],
   "source": [
    "dir()"
   ]
  },
  {
   "cell_type": "markdown",
   "metadata": {
    "colab_type": "text",
    "id": "ShA6D8jKH0N5"
   },
   "source": [
    "### 6. Find out how many Positive and Negative emotions are there.\n",
    "\n",
    "Hint: Use value_counts on that column"
   ]
  },
  {
   "cell_type": "code",
   "execution_count": 21,
   "metadata": {},
   "outputs": [
    {
     "data": {
      "text/plain": [
       "positive emotion    2672\n",
       "negative emotion     519\n",
       "Name: is_there_an_emotion_directed_at_a_brand_or_product, dtype: int64"
      ]
     },
     "execution_count": 21,
     "metadata": {},
     "output_type": "execute_result"
    }
   ],
   "source": [
    "Y.value_counts()"
   ]
  },
  {
   "cell_type": "markdown",
   "metadata": {
    "colab_type": "text",
    "id": "IUvgj0FoH0N9"
   },
   "source": [
    "### 7. Change the labels for Positive and Negative emotions as 1 and 0 respectively and store in a different column in the same dataframe named 'Label'\n",
    "\n",
    "Hint: use map on that column and give labels"
   ]
  },
  {
   "cell_type": "code",
   "execution_count": 22,
   "metadata": {},
   "outputs": [],
   "source": [
    "data_sub['is_there_an_emotion_directed_at_a_brand_or_product'] = np.where(data_sub['is_there_an_emotion_directed_at_a_brand_or_product']== 'positive emotion',1,0)"
   ]
  },
  {
   "cell_type": "code",
   "execution_count": 23,
   "metadata": {},
   "outputs": [
    {
     "data": {
      "text/plain": [
       "1    2672\n",
       "0     519\n",
       "Name: is_there_an_emotion_directed_at_a_brand_or_product, dtype: int64"
      ]
     },
     "execution_count": 23,
     "metadata": {},
     "output_type": "execute_result"
    }
   ],
   "source": [
    "Y=data_sub['is_there_an_emotion_directed_at_a_brand_or_product']\n",
    "Y.value_counts()"
   ]
  },
  {
   "cell_type": "markdown",
   "metadata": {
    "colab_type": "text",
    "id": "3YErwYLCH0N_"
   },
   "source": [
    "### 8 Define the feature set (independent variable or X) to be `text` column and `labels` as target (or dependent variable)  and divide into train and test datasets"
   ]
  },
  {
   "cell_type": "code",
   "execution_count": 24,
   "metadata": {},
   "outputs": [],
   "source": [
    "X_train, X_test, y_train, y_test = train_test_split(X, Y, random_state=1,test_size=0.20 )\n",
    "X_train_dtm = vect.fit_transform(X_train)\n",
    "X_test_dtm = vect.transform(X_test)"
   ]
  },
  {
   "cell_type": "code",
   "execution_count": null,
   "metadata": {},
   "outputs": [],
   "source": []
  },
  {
   "cell_type": "markdown",
   "metadata": {
    "colab_type": "text",
    "id": "Q5nlCuaaH0OD"
   },
   "source": [
    "## 9. **Predicting the sentiment:**\n",
    "\n",
    "\n",
    "### Use Naive Bayes and Logistic Regression and their accuracy scores for predicting the sentiment of the given text"
   ]
  },
  {
   "cell_type": "code",
   "execution_count": 25,
   "metadata": {},
   "outputs": [],
   "source": [
    "# import and instantiate a Multinomial Naive Bayes model\n",
    "from sklearn.naive_bayes import MultinomialNB\n",
    "nb = MultinomialNB()"
   ]
  },
  {
   "cell_type": "code",
   "execution_count": 26,
   "metadata": {},
   "outputs": [
    {
     "data": {
      "text/plain": [
       "MultinomialNB(alpha=1.0, class_prior=None, fit_prior=True)"
      ]
     },
     "execution_count": 26,
     "metadata": {},
     "output_type": "execute_result"
    }
   ],
   "source": [
    "# train the model using X_train_dtm\n",
    "nb.fit(X_train_dtm, y_train)"
   ]
  },
  {
   "cell_type": "code",
   "execution_count": 27,
   "metadata": {},
   "outputs": [],
   "source": [
    "# make class predictions for X_test_dtm\n",
    "y_pred_class = nb.predict(X_test_dtm)"
   ]
  },
  {
   "cell_type": "code",
   "execution_count": 28,
   "metadata": {},
   "outputs": [
    {
     "data": {
      "text/plain": [
       "0.8341158059467919"
      ]
     },
     "execution_count": 28,
     "metadata": {},
     "output_type": "execute_result"
    }
   ],
   "source": [
    "# calculate accuracy of class predictions\n",
    "from sklearn import metrics\n",
    "metrics.accuracy_score(y_test, y_pred_class)"
   ]
  },
  {
   "cell_type": "code",
   "execution_count": 29,
   "metadata": {},
   "outputs": [
    {
     "data": {
      "text/plain": [
       "array([[ 27,  97],\n",
       "       [  9, 506]], dtype=int64)"
      ]
     },
     "execution_count": 29,
     "metadata": {},
     "output_type": "execute_result"
    }
   ],
   "source": [
    "# print the confusion matrix\n",
    "metrics.confusion_matrix(y_test, y_pred_class)"
   ]
  },
  {
   "cell_type": "code",
   "execution_count": 30,
   "metadata": {},
   "outputs": [],
   "source": [
    "# import and instantiate a logistic regression model\n",
    "from sklearn.linear_model import LogisticRegression\n",
    "logreg = LogisticRegression()\n",
    "# train the model using X_train_dtm\n",
    "logreg.fit(X_train_dtm, y_train)\n",
    "# make class predictions for X_test_dtm\n",
    "y_pred_class = logreg.predict(X_test_dtm)\n",
    "\n"
   ]
  },
  {
   "cell_type": "code",
   "execution_count": 31,
   "metadata": {},
   "outputs": [
    {
     "data": {
      "text/plain": [
       "array([0.88086353, 0.16445505, 0.80569119, 0.99683904, 0.56391117,\n",
       "       0.94415846, 0.80857336, 0.95257023, 0.95473345, 0.98180946,\n",
       "       0.1523031 , 0.71425767, 0.92608863, 0.9247352 , 0.99416808,\n",
       "       0.83391794, 0.82722427, 0.98787224, 0.87704846, 0.96769315,\n",
       "       0.89688456, 0.320912  , 0.93920317, 0.99539115, 0.2164588 ,\n",
       "       0.87025237, 0.92027933, 0.96177027, 0.80916845, 0.0964679 ,\n",
       "       0.98972899, 0.99684767, 0.48739581, 0.398789  , 0.97895555,\n",
       "       0.8414055 , 0.99614091, 0.91603146, 0.98605036, 0.98392807,\n",
       "       0.96998442, 0.51318549, 0.44718055, 0.86170004, 0.91974865,\n",
       "       0.6621502 , 0.35069192, 0.81474316, 0.3503181 , 0.92468539,\n",
       "       0.94244047, 0.80723852, 0.99073075, 0.27801829, 0.67286296,\n",
       "       0.96582946, 0.93548391, 0.98917811, 0.90013033, 0.48819013,\n",
       "       0.96851673, 0.61291556, 0.96053913, 0.98028497, 0.94773202,\n",
       "       0.7375954 , 0.84484381, 0.43203571, 0.9533004 , 0.98862458,\n",
       "       0.93530761, 0.95628788, 0.972246  , 0.98441913, 0.98193637,\n",
       "       0.05928525, 0.82258447, 0.87678914, 0.97494838, 0.9841856 ,\n",
       "       0.99707086, 0.97649461, 0.96984862, 0.76219909, 0.94943448,\n",
       "       0.87923145, 0.83516012, 0.13160581, 0.96805739, 0.98487823,\n",
       "       0.47801564, 0.90867125, 0.98915308, 0.9817322 , 0.57831552,\n",
       "       0.98022258, 0.05763022, 0.82989415, 0.98797587, 0.84962364,\n",
       "       0.9032897 , 0.98531857, 0.95351282, 0.97018385, 0.98240776,\n",
       "       0.78528469, 0.94843691, 0.99432841, 0.44884924, 0.96269062,\n",
       "       0.93478097, 0.95391363, 0.90758348, 0.62163521, 0.96299486,\n",
       "       0.9686646 , 0.95855575, 0.99258443, 0.92853094, 0.70046139,\n",
       "       0.81044585, 0.70075487, 0.74907008, 0.99295688, 0.80202255,\n",
       "       0.99174912, 0.91979497, 0.98824639, 0.92182681, 0.74492358,\n",
       "       0.99616745, 0.96314662, 0.4531214 , 0.99008901, 0.99552477,\n",
       "       0.92079502, 0.99685691, 0.95758167, 0.97935716, 0.87391497,\n",
       "       0.86225802, 0.77530942, 0.81665091, 0.88802133, 0.91320005,\n",
       "       0.98662414, 0.9872893 , 0.59116174, 0.91756365, 0.99016525,\n",
       "       0.91484752, 0.96035282, 0.98405657, 0.70230975, 0.92430244,\n",
       "       0.94689206, 0.9729493 , 0.8914182 , 0.95918732, 0.93447972,\n",
       "       0.69344008, 0.90483697, 0.68755756, 0.87387058, 0.9569394 ,\n",
       "       0.98608414, 0.98972619, 0.97652873, 0.97445842, 0.99241687,\n",
       "       0.85432752, 0.98529517, 0.97191373, 0.96247827, 0.94104321,\n",
       "       0.97815489, 0.82658676, 0.87929991, 0.20574304, 0.99046202,\n",
       "       0.92713596, 0.79019888, 0.89020349, 0.23086743, 0.52097854,\n",
       "       0.94381136, 0.71159909, 0.95041112, 0.99539013, 0.64018005,\n",
       "       0.56252954, 0.90542356, 0.96461539, 0.97448083, 0.99685096,\n",
       "       0.99704227, 0.94713948, 0.94263672, 0.96891394, 0.98284092,\n",
       "       0.98305689, 0.89367779, 0.94918845, 0.85332186, 0.92201244,\n",
       "       0.88169215, 0.63948848, 0.89640754, 0.98662732, 0.36799674,\n",
       "       0.99424288, 0.28569315, 0.88629085, 0.99507093, 0.97370276,\n",
       "       0.9194007 , 0.95852987, 0.46716637, 0.80821883, 0.96639068,\n",
       "       0.97832751, 0.95487384, 0.97144704, 0.9530001 , 0.43072749,\n",
       "       0.96410298, 0.92290839, 0.9625212 , 0.44043262, 0.86849655,\n",
       "       0.94144931, 0.96916787, 0.78936943, 0.98364177, 0.89218841,\n",
       "       0.92603329, 0.80335938, 0.9324792 , 0.98989082, 0.92604726,\n",
       "       0.97910285, 0.87821072, 0.98538159, 0.97188434, 0.84886748,\n",
       "       0.82542116, 0.87790165, 0.93986504, 0.4376148 , 0.98187711,\n",
       "       0.95340803, 0.9959094 , 0.96902327, 0.90068029, 0.97183997,\n",
       "       0.91270494, 0.95181343, 0.72810033, 0.99314454, 0.91803881,\n",
       "       0.83981947, 0.85045084, 0.8811149 , 0.76434645, 0.92809366,\n",
       "       0.85245253, 0.89003027, 0.98369698, 0.96045667, 0.95567294,\n",
       "       0.96976683, 0.48067865, 0.97292307, 0.95279809, 0.9425026 ,\n",
       "       0.7382872 , 0.98821084, 0.64308519, 0.96222338, 0.99059341,\n",
       "       0.8367382 , 0.95015646, 0.98361327, 0.95399246, 0.89535082,\n",
       "       0.95652406, 0.71997737, 0.96752737, 0.97517364, 0.94912026,\n",
       "       0.99807521, 0.99374144, 0.93516802, 0.62828757, 0.96928468,\n",
       "       0.99431814, 0.7915846 , 0.99396796, 0.9690221 , 0.99746093,\n",
       "       0.93036297, 0.71131271, 0.93675013, 0.99511451, 0.19967232,\n",
       "       0.99056786, 0.70782937, 0.87340205, 0.97743765, 0.93878616,\n",
       "       0.95062447, 0.9736147 , 0.97588113, 0.97693413, 0.88063319,\n",
       "       0.4030944 , 0.93071966, 0.29737238, 0.16034432, 0.18417144,\n",
       "       0.8800316 , 0.99296747, 0.92891087, 0.99419841, 0.93820271,\n",
       "       0.87727128, 0.91018476, 0.25817056, 0.97646048, 0.87210556,\n",
       "       0.98785628, 0.85232279, 0.99331832, 0.94634354, 0.98565452,\n",
       "       0.52303967, 0.96016398, 0.90946065, 0.90951057, 0.98788565,\n",
       "       0.88231258, 0.9736147 , 0.98614256, 0.25277215, 0.60890597,\n",
       "       0.98311136, 0.93678141, 0.643987  , 0.50210882, 0.96774167,\n",
       "       0.78545469, 0.90709595, 0.97507268, 0.97844403, 0.98699323,\n",
       "       0.97055734, 0.35037818, 0.88981068, 0.81059886, 0.99876139,\n",
       "       0.88831643, 0.63629367, 0.68830983, 0.98885979, 0.99244041,\n",
       "       0.43033457, 0.99396461, 0.99353457, 0.97815426, 0.98364125,\n",
       "       0.93028229, 0.97357632, 0.99896045, 0.80382877, 0.99205849,\n",
       "       0.78728907, 0.82451822, 0.17388071, 0.93965147, 0.75097675,\n",
       "       0.93212744, 0.99844915, 0.97713349, 0.97934603, 0.98662142,\n",
       "       0.92584358, 0.99133455, 0.99625596, 0.98497393, 0.78819397,\n",
       "       0.98912139, 0.99335183, 0.91894542, 0.99496247, 0.99710161,\n",
       "       0.78225404, 0.96185951, 0.96391595, 0.99216503, 0.93409716,\n",
       "       0.98833413, 0.99480878, 0.84962517, 0.97641365, 0.96258892,\n",
       "       0.99659399, 0.87090303, 0.79573544, 0.98278139, 0.60554629,\n",
       "       0.91870014, 0.89827833, 0.99790202, 0.94806796, 0.87432702,\n",
       "       0.94493983, 0.99602027, 0.92374518, 0.96862036, 0.25079858,\n",
       "       0.7363567 , 0.08611614, 0.96000511, 0.93948644, 0.94455404,\n",
       "       0.92392767, 0.96675389, 0.95445491, 0.72194857, 0.98948912,\n",
       "       0.93564702, 0.91748813, 0.99571201, 0.96909326, 0.994496  ,\n",
       "       0.41972515, 0.85807751, 0.98692345, 0.84884049, 0.97717641,\n",
       "       0.89859951, 0.95157758, 0.7989495 , 0.94211031, 0.92198927,\n",
       "       0.98249317, 0.8297941 , 0.96524295, 0.95612447, 0.99532295,\n",
       "       0.98866148, 0.90166674, 0.89875739, 0.9363337 , 0.98143839,\n",
       "       0.9745617 , 0.93403853, 0.71291207, 0.96180909, 0.78081971,\n",
       "       0.99576151, 0.26601021, 0.33439842, 0.90572088, 0.97661566,\n",
       "       0.99433051, 0.84454965, 0.85609832, 0.79131679, 0.97084463,\n",
       "       0.72999255, 0.98914903, 0.92488735, 0.72273297, 0.27181211,\n",
       "       0.99838951, 0.58513766, 0.82101359, 0.97403866, 0.88887763,\n",
       "       0.92883189, 0.97003821, 0.96811145, 0.95924311, 0.99586743,\n",
       "       0.17220041, 0.99335183, 0.9800604 , 0.75216589, 0.98648586,\n",
       "       0.99660169, 0.97167056, 0.90858513, 0.77475658, 0.31501567,\n",
       "       0.99350157, 0.94570064, 0.98325517, 0.83480546, 0.08837627,\n",
       "       0.99781077, 0.62154065, 0.99219708, 0.88388461, 0.92540278,\n",
       "       0.98579395, 0.62433931, 0.09034842, 0.94045512, 0.98090656,\n",
       "       0.70815987, 0.90645714, 0.98865688, 0.95709118, 0.77488856,\n",
       "       0.86125089, 0.47811052, 0.86090876, 0.98959914, 0.83789815,\n",
       "       0.98747537, 0.93678505, 0.95435401, 0.62076217, 0.93913338,\n",
       "       0.99866048, 0.92497218, 0.96777767, 0.93641317, 0.84466698,\n",
       "       0.84058394, 0.9304711 , 0.98312246, 0.95670418, 0.17859701,\n",
       "       0.75377943, 0.98159222, 0.82668879, 0.9710592 , 0.9799237 ,\n",
       "       0.96716797, 0.79779013, 0.83282336, 0.95212193, 0.97046999,\n",
       "       0.9974897 , 0.95236137, 0.97025907, 0.98157053, 0.68904823,\n",
       "       0.99717413, 0.99541051, 0.96663105, 0.93569953, 0.35571737,\n",
       "       0.98273881, 0.991809  , 0.97189134, 0.99082503, 0.812186  ,\n",
       "       0.96955305, 0.93178991, 0.86813042, 0.64649664, 0.99231734,\n",
       "       0.35279156, 0.95045655, 0.90558351, 0.95831327, 0.88699357,\n",
       "       0.06162212, 0.91045325, 0.90254997, 0.99061252, 0.77957737,\n",
       "       0.89898072, 0.96716797, 0.66902992, 0.98052444, 0.9393394 ,\n",
       "       0.96897569, 0.96845826, 0.79549256, 0.86278351, 0.99827542,\n",
       "       0.92574616, 0.90605804, 0.41030171, 0.18343767, 0.96458162,\n",
       "       0.86559449, 0.86245699, 0.9315183 , 0.38978994, 0.97478008,\n",
       "       0.96076833, 0.99466741, 0.99016848, 0.98428545, 0.96892348,\n",
       "       0.9063863 , 0.46881677, 0.95873322, 0.95594593, 0.97796205,\n",
       "       0.8800868 , 0.99789261, 0.95295666, 0.98904363, 0.90729607,\n",
       "       0.98232455, 0.96959145, 0.99498328, 0.34425665, 0.94577213,\n",
       "       0.89717744, 0.69621505, 0.19642989, 0.99082392, 0.94295106,\n",
       "       0.50725546, 0.92578939, 0.65647527, 0.18279882, 0.93300677,\n",
       "       0.74131819, 0.99551501, 0.85365608, 0.86320072, 0.97957487,\n",
       "       0.98022258, 0.95148462, 0.40359028, 0.99655438, 0.99603025,\n",
       "       0.99403238, 0.31645801, 0.97595161, 0.92294729])"
      ]
     },
     "execution_count": 31,
     "metadata": {},
     "output_type": "execute_result"
    }
   ],
   "source": [
    "# calculate predicted probabilities for X_test_dtm\n",
    "y_pred_prob = logreg.predict_proba(X_test_dtm)[:, 1]\n",
    "y_pred_prob"
   ]
  },
  {
   "cell_type": "code",
   "execution_count": 32,
   "metadata": {},
   "outputs": [
    {
     "data": {
      "text/plain": [
       "0.8528951486697965"
      ]
     },
     "execution_count": 32,
     "metadata": {},
     "output_type": "execute_result"
    }
   ],
   "source": [
    "# calculate accuracy\n",
    "metrics.accuracy_score(y_test, y_pred_class)"
   ]
  },
  {
   "cell_type": "markdown",
   "metadata": {
    "colab_type": "text",
    "id": "sw-0B33tH0Ox"
   },
   "source": [
    "## 10. Create a function called `tokenize_predict` which can take count vectorizer object as input and prints the accuracy for x (text) and y (labels)"
   ]
  },
  {
   "cell_type": "code",
   "execution_count": 33,
   "metadata": {
    "colab": {},
    "colab_type": "code",
    "id": "okCTOs1TH0Oy"
   },
   "outputs": [],
   "source": [
    "def tokenize_test_nb(vect):\n",
    "    x_train_dtm = vect.fit_transform(X_train)\n",
    "    print('Features: ', x_train_dtm.shape[1])\n",
    "    x_test_dtm = vect.transform(X_test)\n",
    "    nb = MultinomialNB()\n",
    "    nb.fit(x_train_dtm, y_train)\n",
    "    y_pred_class = nb.predict(x_test_dtm)\n",
    "    print('Accuracy: ', metrics.accuracy_score(y_test, y_pred_class))"
   ]
  },
  {
   "cell_type": "code",
   "execution_count": 34,
   "metadata": {},
   "outputs": [],
   "source": [
    "def tokenize_test_lr(vect):\n",
    "    x_train_dtm = vect.fit_transform(X_train)\n",
    "    print('Features: ', x_train_dtm.shape[1])\n",
    "    x_test_dtm = vect.transform(X_test)\n",
    "    logreg = LogisticRegression()\n",
    "    logreg.fit(x_train_dtm, y_train)\n",
    "    y_pred_class = logreg.predict(x_test_dtm)\n",
    "    print('Accuracy: ', metrics.accuracy_score(y_test, y_pred_class))"
   ]
  },
  {
   "cell_type": "markdown",
   "metadata": {
    "colab_type": "text",
    "id": "JxZ8jfPEH0O0"
   },
   "source": [
    "### 11 Create a count vectorizer function which includes n_grams = 1,2  and pass it to tokenize_predict function to print the accuracy score"
   ]
  },
  {
   "cell_type": "code",
   "execution_count": 35,
   "metadata": {},
   "outputs": [
    {
     "name": "stdout",
     "output_type": "stream",
     "text": [
      "Features:  25706\n",
      "Accuracy:  0.838810641627543\n"
     ]
    }
   ],
   "source": [
    "# include 1-grams and 2-grams, and limit the number of features\n",
    "vect = CountVectorizer(ngram_range=(1, 2))\n",
    "tokenize_test_nb(vect)"
   ]
  },
  {
   "cell_type": "code",
   "execution_count": 36,
   "metadata": {},
   "outputs": [
    {
     "name": "stdout",
     "output_type": "stream",
     "text": [
      "Features:  25706\n",
      "Accuracy:  0.8544600938967136\n"
     ]
    }
   ],
   "source": [
    "# include 1-grams and 2-grams, and limit the number of features\n",
    "vect = CountVectorizer(ngram_range=(1, 2))\n",
    "tokenize_test_lr(vect)"
   ]
  },
  {
   "cell_type": "markdown",
   "metadata": {
    "colab_type": "text",
    "id": "axepytmgH0O4"
   },
   "source": [
    "### Q 12 Create a count vectorizer function with stopwords = 'english'  and pass it to tokenize_predict function to print the accuracy score"
   ]
  },
  {
   "cell_type": "code",
   "execution_count": 37,
   "metadata": {},
   "outputs": [
    {
     "name": "stdout",
     "output_type": "stream",
     "text": [
      "Features:  4761\n",
      "Accuracy:  0.8403755868544601\n"
     ]
    }
   ],
   "source": [
    "vect = CountVectorizer(stop_words='english')\n",
    "tokenize_test_nb(vect)"
   ]
  },
  {
   "cell_type": "code",
   "execution_count": 38,
   "metadata": {},
   "outputs": [
    {
     "name": "stdout",
     "output_type": "stream",
     "text": [
      "Features:  4761\n",
      "Accuracy:  0.8544600938967136\n"
     ]
    }
   ],
   "source": [
    "vect = CountVectorizer(stop_words='english')\n",
    "tokenize_test_lr(vect)"
   ]
  },
  {
   "cell_type": "markdown",
   "metadata": {
    "colab_type": "text",
    "id": "iOIlJRxoH0O7"
   },
   "source": [
    "### Q 13 Create a count vectorizer function with stopwords = 'english' and max_features =300  and pass it to tokenize_predict function to print the accuracy score"
   ]
  },
  {
   "cell_type": "code",
   "execution_count": 39,
   "metadata": {},
   "outputs": [
    {
     "name": "stdout",
     "output_type": "stream",
     "text": [
      "Features:  300\n",
      "Accuracy:  0.8028169014084507\n"
     ]
    }
   ],
   "source": [
    "vect = CountVectorizer(stop_words='english', max_features=300)\n",
    "tokenize_test_nb(vect)"
   ]
  },
  {
   "cell_type": "code",
   "execution_count": 40,
   "metadata": {},
   "outputs": [
    {
     "name": "stdout",
     "output_type": "stream",
     "text": [
      "Features:  300\n",
      "Accuracy:  0.8200312989045383\n"
     ]
    }
   ],
   "source": [
    "vect = CountVectorizer(stop_words='english', max_features=300)\n",
    "tokenize_test_lr(vect)"
   ]
  },
  {
   "cell_type": "markdown",
   "metadata": {
    "colab_type": "text",
    "id": "S2KZNWVkH0PA"
   },
   "source": [
    "### Q 14 Create a count vectorizer function with n_grams = 1,2  and max_features = 15000  and pass it to tokenize_predict function to print the accuracy score"
   ]
  },
  {
   "cell_type": "code",
   "execution_count": 41,
   "metadata": {},
   "outputs": [
    {
     "name": "stdout",
     "output_type": "stream",
     "text": [
      "Features:  15000\n",
      "Accuracy:  0.837245696400626\n"
     ]
    }
   ],
   "source": [
    "# include 1-grams and 2-grams, and limit the number of features\n",
    "vect = CountVectorizer(ngram_range=(1, 2), max_features=15000)\n",
    "tokenize_test_nb(vect)"
   ]
  },
  {
   "cell_type": "code",
   "execution_count": 42,
   "metadata": {},
   "outputs": [
    {
     "name": "stdout",
     "output_type": "stream",
     "text": [
      "Features:  15000\n",
      "Accuracy:  0.8591549295774648\n"
     ]
    }
   ],
   "source": [
    "vect = CountVectorizer(ngram_range=(1, 2), max_features=15000)\n",
    "tokenize_test_lr(vect)"
   ]
  },
  {
   "cell_type": "markdown",
   "metadata": {
    "colab_type": "text",
    "id": "We3JK_SRH0PO"
   },
   "source": [
    "### Q. 15 -Create a count vectorizer function with n_grams = 1,2  and include terms that appear at least 2 times (min_df = 2)  and pass it to tokenize_predict function to print the accuracy score"
   ]
  },
  {
   "cell_type": "code",
   "execution_count": 43,
   "metadata": {
    "colab": {},
    "colab_type": "code",
    "id": "3H4k_lVZH0PS"
   },
   "outputs": [
    {
     "name": "stdout",
     "output_type": "stream",
     "text": [
      "Features:  8275\n",
      "Accuracy:  0.8450704225352113\n"
     ]
    }
   ],
   "source": [
    "# include 1-grams and 2-grams, and limit the number of features\n",
    "vect = CountVectorizer(ngram_range=(1, 2), min_df=2)\n",
    "tokenize_test_nb(vect)"
   ]
  },
  {
   "cell_type": "code",
   "execution_count": 44,
   "metadata": {},
   "outputs": [
    {
     "name": "stdout",
     "output_type": "stream",
     "text": [
      "Features:  8275\n",
      "Accuracy:  0.8622848200312989\n"
     ]
    }
   ],
   "source": [
    "vect = CountVectorizer(ngram_range=(1, 2), min_df=2)\n",
    "tokenize_test_lr(vect)"
   ]
  },
  {
   "cell_type": "code",
   "execution_count": null,
   "metadata": {},
   "outputs": [],
   "source": []
  }
 ],
 "metadata": {
  "accelerator": "GPU",
  "colab": {
   "collapsed_sections": [],
   "name": "R8_Internal_Lab_Questions.ipynb",
   "provenance": [],
   "version": "0.3.2"
  },
  "kernelspec": {
   "display_name": "Python 3",
   "language": "python",
   "name": "python3"
  },
  "language_info": {
   "codemirror_mode": {
    "name": "ipython",
    "version": 3
   },
   "file_extension": ".py",
   "mimetype": "text/x-python",
   "name": "python",
   "nbconvert_exporter": "python",
   "pygments_lexer": "ipython3",
   "version": "3.6.5"
  }
 },
 "nbformat": 4,
 "nbformat_minor": 1
}
